{
 "cells": [
  {
   "cell_type": "markdown",
   "metadata": {},
   "source": [
    "# Calculadora de Intensidad Sisimica / Ley de Atenuación Sismica (Centro Geológico Colombiano)"
   ]
  },
  {
   "cell_type": "markdown",
   "metadata": {},
   "source": [
    "La siguiente calculador me permite conocer el grado de intensidad de daño que se genera en la zona donde estuvo el sismo, la formula que nos permite realizar el cálculo la \n",
    "proporciona el Centro Geológico Colombiano. \n",
    "\n",
    "Donde se tiene 3 formulas para conocer la intensidad:\n",
    "\n",
    "\n"
   ]
  },
  {
   "cell_type": "code",
   "execution_count": 2,
   "metadata": {},
   "outputs": [],
   "source": [
    "#Sarabia Gómez, A.M. (2016): solamente será de sismo ocurridos hasta 50Km bajo tierra y entre las fechas de 1644 – 1950  *Magnitudes 5.1 – 7.12 maximo 150 Km.\n",
    "#(Beauval et al, 2010) este modelo predice una atenuación más rápida con la distancia que los modelos establecidos en regiones continentales estables 5,3 y 7,1.\n",
    "#Gómez et al (2020): *Magnitudes 5.1 – 7.12 maximo 150 Km. "
   ]
  },
  {
   "cell_type": "markdown",
   "metadata": {},
   "source": [
    "NOTA:\n",
    "(a más de 600 km del epicentro), según se documenta en los documentos hitóricos. Además, no hubo réplicas, deslizamientos de tierra o grietas en el suelo, como se informa comúnmente para la mayoría de los terremotos de corteza de alta magnitud en Colombia."
   ]
  },
  {
   "cell_type": "markdown",
   "metadata": {},
   "source": [
    "Fórmula general:\n",
    "I = a · M - b · log₁₀(R) + c"
   ]
  },
  {
   "cell_type": "markdown",
   "metadata": {},
   "source": [
    "I: Intensidad sísmica / M: Magnitud del sismo / R: Distancia hipocentral en kilómetros / a, b, c: Coeficientes empíricos que dependen de la región (Condiciones Locales de Medellín)"
   ]
  },
  {
   "cell_type": "code",
   "execution_count": 4,
   "metadata": {},
   "outputs": [],
   "source": [
    "from PIL import Image\n"
   ]
  },
  {
   "cell_type": "code",
   "execution_count": null,
   "metadata": {},
   "outputs": [],
   "source": [
    "Image = Image.open(\"SGN.PNG\")\n",
    "Image.show()"
   ]
  },
  {
   "cell_type": "code",
   "execution_count": 3,
   "metadata": {},
   "outputs": [
    {
     "name": "stdout",
     "output_type": "stream",
     "text": [
      "\n",
      "=== Calculadora de Intensidad Sísmica ===\n",
      "\n",
      "Error: Por favor ingrese valores numéricos válidos\n",
      "\n",
      "¡Gracias por usar la calculadora de intensidad!\n"
     ]
    }
   ],
   "source": [
    "import numpy as np\n",
    "import pandas as pd\n",
    "\n",
    "\n",
    "class IntensityCalculator:\n",
    "    def __init__(self):\n",
    "        \"\"\"Inicializa los diferentes modelos de atenuación\"\"\"\n",
    "        pass\n",
    "    \n",
    "    def sarabia_2016_model(self, Mw, distance):\n",
    "        \"\"\"Modelo de atenuación de Sarabia Gómez, 2016\"\"\"\n",
    "        if not (5.1 <= Mw <= 7.1):\n",
    "            return \"Fuera de rango (válido para Mw 5.1-7.1)\"\n",
    "        if distance > 120:\n",
    "            return \"Distancia excede el límite de 120 km\"\n",
    "            \n",
    "        I = 2.33 * Mw - 3.68 * np.log10(distance)\n",
    "        return round(I, 2)\n",
    "    \n",
    "    def beauval_2010_model(self, Mw, distance):\n",
    "        \"\"\"Modelo de Beauval et al., 2010\"\"\"\n",
    "        if not (5.3 <= Mw <= 7.1):\n",
    "            return \"Fuera de rango (válido para Mw 5.3-7.1)\"\n",
    "            \n",
    "        I = -0.85 + 2.41 * Mw - 5.39 * np.log10(distance)\n",
    "        return round(I, 2)\n",
    "    \n",
    "    def gomez_2020_model(self, Mw, distance):\n",
    "        \"\"\"Modelo de Gómez et al., 2020\"\"\"\n",
    "        if not (5.1 <= Mw <= 7.1):\n",
    "            return \"Fuera de rango (válido para Mw 5.1-7.1)\"\n",
    "            \n",
    "        I = -1.92 - 0.0021 * distance - 3.68 * np.log10(distance) + 2.33 * Mw\n",
    "        return round(I, 2)\n",
    "\n",
    "def calcular_intensidad():\n",
    "    \"\"\"Función interactiva para calcular intensidad\"\"\"\n",
    "    print(\"\\n=== Calculadora de Intensidad Sísmica ===\")\n",
    "    \n",
    "    try:\n",
    "        # Entrada de datos\n",
    "        magnitud = float(input(\"\\nIngrese la magnitud (Mw): \"))\n",
    "        distancia = float(input(\"Ingrese la distancia hipocentral (km): \"))\n",
    "        \n",
    "        # Crear calculadora\n",
    "        calculator = IntensityCalculator()\n",
    "        \n",
    "        # Calcular usando todos los modelos\n",
    "        print(\"\\nResultados:\")\n",
    "        print(\"-\" * 50)\n",
    "        print(f\"Modelo Sarabia 2016: {calculator.sarabia_2016_model(magnitud, distancia)}\")\n",
    "        print(f\"Modelo Beauval 2010: {calculator.beauval_2010_model(magnitud, distancia)}\")\n",
    "        print(f\"Modelo Gómez 2020: {calculator.gomez_2020_model(magnitud, distancia)}\")\n",
    "        print(\"-\" * 50)\n",
    "        \n",
    "    except ValueError:\n",
    "        print(\"\\nError: Por favor ingrese valores numéricos válidos\")\n",
    "\n",
    "# Ejecutar la calculadora\n",
    "if __name__ == \"__main__\":\n",
    "    while True:\n",
    "        calcular_intensidad()\n",
    "        continuar = input(\"\\n¿Desea calcular otra intensidad? (s/n): \")\n",
    "        if continuar.lower() != 's':\n",
    "            break\n",
    "\n",
    "    print(\"\\n¡Gracias por usar la calculadora de intensidad sismica !\")"
   ]
  },
  {
   "cell_type": "code",
   "execution_count": null,
   "metadata": {},
   "outputs": [],
   "source": []
  }
 ],
 "metadata": {
  "kernelspec": {
   "display_name": "base",
   "language": "python",
   "name": "python3"
  },
  "language_info": {
   "codemirror_mode": {
    "name": "ipython",
    "version": 3
   },
   "file_extension": ".py",
   "mimetype": "text/x-python",
   "name": "python",
   "nbconvert_exporter": "python",
   "pygments_lexer": "ipython3",
   "version": "3.11.5"
  }
 },
 "nbformat": 4,
 "nbformat_minor": 2
}
