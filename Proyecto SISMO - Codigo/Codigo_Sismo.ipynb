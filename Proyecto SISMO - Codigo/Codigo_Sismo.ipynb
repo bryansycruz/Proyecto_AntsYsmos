{
 "cells": [
  {
   "cell_type": "markdown",
   "metadata": {},
   "source": [
    "# Anti sYsmo"
   ]
  },
  {
   "cell_type": "markdown",
   "metadata": {},
   "source": [
    "El presente modelo tiene como objetivo medir el daño en la mampostería no estructural considerando la variable de intensidad. Es importante destacar que los datos utilizados en este dataset están disponibles en el Centro Geológico Colombiano."
   ]
  },
  {
   "cell_type": "code",
   "execution_count": 1,
   "metadata": {},
   "outputs": [],
   "source": [
    "#Libreria que necesitan para el modelo"
   ]
  },
  {
   "cell_type": "code",
   "execution_count": 2,
   "metadata": {},
   "outputs": [],
   "source": [
    "import pandas as pd\n",
    "import numpy as np\n",
    "from sklearn.model_selection import train_test_split, GridSearchCV\n",
    "from sklearn.pipeline import Pipeline #Libreria que me permite tener gasto computacional\n",
    "from sklearn.compose import ColumnTransformer\n",
    "from sklearn.preprocessing import OneHotEncoder, MinMaxScaler\n",
    "from sklearn.feature_selection import SelectKBest, f_classif\n",
    "from sklearn.linear_model import LogisticRegression\n",
    "from sklearn.metrics import (\n",
    "    accuracy_score, balanced_accuracy_score,\n",
    "    precision_score, recall_score, f1_score,\n",
    "    confusion_matrix, ConfusionMatrixDisplay\n",
    ")"
   ]
  },
  {
   "cell_type": "code",
   "execution_count": 3,
   "metadata": {},
   "outputs": [],
   "source": [
    "#Carga del dataset"
   ]
  },
  {
   "cell_type": "code",
   "execution_count": 4,
   "metadata": {},
   "outputs": [],
   "source": [
    "df_2024 = pd.read_csv(\"C:/Users/user/Desktop/Proyect ML - UN/Proyecto SISMO - Codigo/BBDD Servicio Geologico/2024.csv\",delimiter=\";\")\n",
    "df_2018 = pd.read_csv(\"C:/Users/user/Desktop/Proyect ML - UN/Proyecto SISMO - Codigo/BBDD Servicio Geologico/2018.csv\",delimiter=\";\")"
   ]
  },
  {
   "cell_type": "code",
   "execution_count": 5,
   "metadata": {},
   "outputs": [],
   "source": [
    "#Organizar el dataset de 2024 y normalizar los datos\n",
    "df2 = df_2024\n",
    "df1 = df_2018\n"
   ]
  },
  {
   "cell_type": "code",
   "execution_count": 6,
   "metadata": {},
   "outputs": [],
   "source": [
    "#Eliminar columnas que no sirven en el modelo\n",
    "df2 = df2.drop(columns=[\"QuakeML\",\"Fases\",\"Mapa\",\"Estado\",\"Tipo Mag.\",\"Fases.1\"])\n",
    "df1 = df1.drop(columns=[\"ESTADO\",\"MAGNITUD Mw\",\"# FASES\",\"DEPARTAMENTO\"])"
   ]
  },
  {
   "cell_type": "code",
   "execution_count": 7,
   "metadata": {},
   "outputs": [],
   "source": [
    "#Normalizar los datos y columnas con el mismo nombre de las columnas \n",
    "df1 = df1.rename(columns={\"FECHA\":\"Fecha\",\n",
    "                            \"HORA_UTC\":\"Hora\",\n",
    "                            \"LATITUD (grados)\":\"Latitud\",\n",
    "                            \"LONGITUD (grados)\":\"Longitud\",\n",
    "                            \"PROFUNDIDAD (Km)\":\"Profundidad (Km)\",\n",
    "                            \"MAGNITUD Ml\":\"Magnitud (MI)\",\n",
    "                            \"DEPARTAMENTO\":\"Departamento\",\n",
    "                            \"MUNICIPIO\":\"Municipio\",\n",
    "                            \"RMS (Seg)\":\"Rms (Seg) / Velocidad del sismo\",\n",
    "                            \"GAP (grados)\":\"Gap (Grados)\",\n",
    "                            \"ERROR LATITUD (Km)\":\"Error Latitud (Km)\",\n",
    "                            \"ERROR LONGITUD (Km)\":\"Error Longitud (Km)\",\n",
    "                            \"ERROR PROFUNDIDAD (Km)\":\"Error Profundidad (Km)\",\n",
    "                            \"INTENSIDAD\":\"Intensidad\"})\n",
    "\n",
    "df2 = df2.rename(columns={ \"Fecha-Hora\":\"Fecha\",\n",
    "                            \"(UTC)\":\"Hora\",\n",
    "                            \"Lat(°)\":\"Latitud\",\n",
    "                            \"Long(°)\":\"Longitud\",\n",
    "                            \"Prof(Km)\":\"Profundidad (Km)\",\n",
    "                            \"Mag.\":\"Magnitud (MI)\",\n",
    "                            \"Rms(Seg)\":\"Rms (Seg) / Velocidad del sismo\",\n",
    "                            \"Gap(°)\":\"Gap (Grados)\",\n",
    "                            \"Error Lat(Km)\":\"Error Latitud (Km)\",\n",
    "                            \"Error Long(Km)\":\"Error Longitud (Km)\",\n",
    "                            \"Error Prof(Km)\":\"Error Profundidad (Km)\",\n",
    "                            \"Region\":\"Municipio\",\n",
    "                            \"Intensidad\":\"Intensidad\"  \n",
    "    \n",
    "}\n",
    ")   "
   ]
  },
  {
   "cell_type": "code",
   "execution_count": 8,
   "metadata": {},
   "outputs": [],
   "source": [
    "df1 = df1[[\"Fecha\",\"Hora\",\"Latitud\",\"Longitud\",\"Profundidad (Km)\",\"Magnitud (MI)\",\"Rms (Seg) / Velocidad del sismo\",\"Gap (Grados)\",\"Error Latitud (Km)\",\"Error Longitud (Km)\",\"Error Profundidad (Km)\",\"Municipio\",\"Intensidad\"]]"
   ]
  },
  {
   "cell_type": "code",
   "execution_count": 9,
   "metadata": {},
   "outputs": [],
   "source": [
    "df2 = df2[[\"Fecha\",\"Hora\",\"Latitud\",\"Longitud\",\"Profundidad (Km)\",\"Magnitud (MI)\",\"Rms (Seg) / Velocidad del sismo\",\"Gap (Grados)\",\"Error Latitud (Km)\",\"Error Longitud (Km)\",\"Error Profundidad (Km)\",\"Municipio\",\"Intensidad\"]]"
   ]
  },
  {
   "cell_type": "code",
   "execution_count": 10,
   "metadata": {},
   "outputs": [],
   "source": [
    "# Para colocar los datos en minuscula y delimitar la columna muncipio y quitar la palabra Antioquia\n",
    "df2[\"Municipio\"] = df2[\"Municipio\"].str.split(\" - \").str[0]\n",
    "df1[\"Municipio\"] = df1[\"Municipio\"].str.lower()\n",
    "df1[\"Municipio\"].str.lower().inplace=True"
   ]
  },
  {
   "cell_type": "markdown",
   "metadata": {},
   "source": [
    "# Información de los Datos"
   ]
  },
  {
   "cell_type": "markdown",
   "metadata": {},
   "source": [
    "Dividir en caracteristicas (x) y etiquetas (y)"
   ]
  },
  {
   "cell_type": "code",
   "execution_count": 11,
   "metadata": {},
   "outputs": [
    {
     "name": "stdout",
     "output_type": "stream",
     "text": [
      "<class 'pandas.core.frame.DataFrame'>\n",
      "RangeIndex: 10563 entries, 0 to 10562\n",
      "Data columns (total 13 columns):\n",
      " #   Column                           Non-Null Count  Dtype  \n",
      "---  ------                           --------------  -----  \n",
      " 0   Fecha                            10563 non-null  object \n",
      " 1   Hora                             10563 non-null  object \n",
      " 2   Latitud                          10563 non-null  float64\n",
      " 3   Longitud                         10563 non-null  float64\n",
      " 4   Profundidad (Km)                 10563 non-null  float64\n",
      " 5   Magnitud (MI)                    10563 non-null  float64\n",
      " 6   Rms (Seg) / Velocidad del sismo  10541 non-null  float64\n",
      " 7   Gap (Grados)                     10541 non-null  float64\n",
      " 8   Error Latitud (Km)               10541 non-null  float64\n",
      " 9   Error Longitud (Km)              10541 non-null  float64\n",
      " 10  Error Profundidad (Km)           10541 non-null  float64\n",
      " 11  Municipio                        10563 non-null  object \n",
      " 12  Intensidad                       10563 non-null  int64  \n",
      "dtypes: float64(9), int64(1), object(3)\n",
      "memory usage: 1.0+ MB\n"
     ]
    }
   ],
   "source": [
    "df1.info()"
   ]
  },
  {
   "cell_type": "code",
   "execution_count": 12,
   "metadata": {},
   "outputs": [
    {
     "name": "stdout",
     "output_type": "stream",
     "text": [
      "<class 'pandas.core.frame.DataFrame'>\n",
      "RangeIndex: 11611 entries, 0 to 11610\n",
      "Data columns (total 13 columns):\n",
      " #   Column                           Non-Null Count  Dtype  \n",
      "---  ------                           --------------  -----  \n",
      " 0   Fecha                            11611 non-null  object \n",
      " 1   Hora                             11611 non-null  object \n",
      " 2   Latitud                          11611 non-null  float64\n",
      " 3   Longitud                         11611 non-null  float64\n",
      " 4   Profundidad (Km)                 11611 non-null  float64\n",
      " 5   Magnitud (MI)                    11611 non-null  float64\n",
      " 6   Rms (Seg) / Velocidad del sismo  11611 non-null  float64\n",
      " 7   Gap (Grados)                     11611 non-null  int64  \n",
      " 8   Error Latitud (Km)               11611 non-null  float64\n",
      " 9   Error Longitud (Km)              11611 non-null  float64\n",
      " 10  Error Profundidad (Km)           11611 non-null  float64\n",
      " 11  Municipio                        11611 non-null  object \n",
      " 12  Intensidad                       11611 non-null  int64  \n",
      "dtypes: float64(8), int64(2), object(3)\n",
      "memory usage: 1.2+ MB\n"
     ]
    }
   ],
   "source": [
    "df2.info()"
   ]
  },
  {
   "cell_type": "code",
   "execution_count": 13,
   "metadata": {},
   "outputs": [],
   "source": [
    "#Cambiar los datos de *Gap (Grados)* pasarlo a int64 el archivo df1*"
   ]
  },
  {
   "cell_type": "code",
   "execution_count": 14,
   "metadata": {},
   "outputs": [],
   "source": [
    "df1[\"Gap (Grados)\"] = df1[\"Gap (Grados)\"].fillna(0.0).astype(\"int64\")"
   ]
  },
  {
   "cell_type": "markdown",
   "metadata": {},
   "source": [
    "# Unir los datos"
   ]
  },
  {
   "cell_type": "code",
   "execution_count": 15,
   "metadata": {},
   "outputs": [],
   "source": [
    "df = pd.concat([df1,df2], axis=0)"
   ]
  },
  {
   "cell_type": "code",
   "execution_count": 16,
   "metadata": {},
   "outputs": [
    {
     "data": {
      "text/plain": [
       "Fecha                               0\n",
       "Hora                                0\n",
       "Latitud                             0\n",
       "Longitud                            0\n",
       "Profundidad (Km)                    0\n",
       "Magnitud (MI)                       0\n",
       "Rms (Seg) / Velocidad del sismo    22\n",
       "Gap (Grados)                        0\n",
       "Error Latitud (Km)                 22\n",
       "Error Longitud (Km)                22\n",
       "Error Profundidad (Km)             22\n",
       "Municipio                           0\n",
       "Intensidad                          0\n",
       "dtype: int64"
      ]
     },
     "execution_count": 16,
     "metadata": {},
     "output_type": "execute_result"
    }
   ],
   "source": [
    "#cantidad de valores nulos o vacios \n",
    "df.isnull().sum()"
   ]
  },
  {
   "cell_type": "code",
   "execution_count": 17,
   "metadata": {},
   "outputs": [],
   "source": [
    "#Esos valores vacios los voy a reemplazar con la media de los datos de cada fila para quitar los valores nulos."
   ]
  },
  {
   "cell_type": "code",
   "execution_count": 18,
   "metadata": {},
   "outputs": [],
   "source": [
    "df[\"Rms (Seg) / Velocidad del sismo\"].fillna(df[\"Rms (Seg) / Velocidad del sismo\"].median(), inplace=True)\n",
    "df[\"Error Latitud (Km)\"].fillna(df[\"Error Latitud (Km)\"].median(), inplace=True)\n",
    "df[\"Error Longitud (Km)\"].fillna(df[\"Error Longitud (Km)\"].median(), inplace=True)\n",
    "df[\"Error Profundidad (Km)\"].fillna(df[\"Error Profundidad (Km)\"].median(), inplace=True)"
   ]
  },
  {
   "cell_type": "code",
   "execution_count": 19,
   "metadata": {},
   "outputs": [
    {
     "data": {
      "text/plain": [
       "Fecha                              0\n",
       "Hora                               0\n",
       "Latitud                            0\n",
       "Longitud                           0\n",
       "Profundidad (Km)                   0\n",
       "Magnitud (MI)                      0\n",
       "Rms (Seg) / Velocidad del sismo    0\n",
       "Gap (Grados)                       0\n",
       "Error Latitud (Km)                 0\n",
       "Error Longitud (Km)                0\n",
       "Error Profundidad (Km)             0\n",
       "Municipio                          0\n",
       "Intensidad                         0\n",
       "dtype: int64"
      ]
     },
     "execution_count": 19,
     "metadata": {},
     "output_type": "execute_result"
    }
   ],
   "source": [
    "df.isnull().sum()"
   ]
  },
  {
   "cell_type": "code",
   "execution_count": 20,
   "metadata": {},
   "outputs": [],
   "source": [
    "#Cambiar el formato de la fecha de str a int"
   ]
  },
  {
   "cell_type": "code",
   "execution_count": 21,
   "metadata": {},
   "outputs": [],
   "source": [
    "df[\"Fecha\"] = pd.to_datetime(df[\"Fecha\"], format=\"%d/%m/%Y\")"
   ]
  },
  {
   "cell_type": "code",
   "execution_count": 22,
   "metadata": {},
   "outputs": [],
   "source": [
    "df[\"Hora\"] = pd.to_datetime(df[\"Hora\"], format=\"%H:%M:%S\").dt.time"
   ]
  },
  {
   "cell_type": "markdown",
   "metadata": {},
   "source": [
    "# División de los Datos"
   ]
  },
  {
   "cell_type": "markdown",
   "metadata": {},
   "source": [
    "Dividr los datos para tomar la variable que vamos a predecir y cuales serian las caracteristicas. "
   ]
  },
  {
   "cell_type": "code",
   "execution_count": 25,
   "metadata": {},
   "outputs": [],
   "source": [
    "X = df.drop(columns=\"Intensidad\")\n",
    "y = df[\"Intensidad\"] #Esta será la variable que vamos a predecir."
   ]
  },
  {
   "cell_type": "code",
   "execution_count": 26,
   "metadata": {},
   "outputs": [],
   "source": [
    "#Dividir los datos en conjuntos de entrenamiento y prueba"
   ]
  },
  {
   "cell_type": "code",
   "execution_count": 27,
   "metadata": {},
   "outputs": [],
   "source": [
    "X_train, X_test, y_train, y_test =  train_test_split(X, y, test_size=0.2, random_state=42)\n",
    "\n",
    "#Vamos a realizar el testeo de los datos 80% - 20%, ese 20% será mi porcentaje de entrenamiento"
   ]
  },
  {
   "cell_type": "code",
   "execution_count": 28,
   "metadata": {},
   "outputs": [
    {
     "data": {
      "text/plain": [
       "'\\nVariables Numéricas \\nLatitud (float64)\\nLongitud (float64)\\nProfundidad (Km) (float64)\\nMagnitud (MI) (float64)\\nRms (Seg) / Velocidad del sismo (float64)\\nGap (Grados) (int64)\\nError Latitud (Km) (float64)\\nError Longitud (Km) (float64)\\nError Profundidad (Km) (float64)\\n\\nVariables Categóricas \\n\\nFecha datetime64[ns]\\nHora (object)\\nMunicipio (object)\\nIntensidad (int64)'"
      ]
     },
     "execution_count": 28,
     "metadata": {},
     "output_type": "execute_result"
    }
   ],
   "source": [
    "#identificar mis variables categoricas y numericas\n",
    "#Variables Numéricas (cuantitativas):\n",
    "\n",
    "'''\n",
    "Variables Numéricas \n",
    "Latitud (float64)\n",
    "Longitud (float64)\n",
    "Profundidad (Km) (float64)\n",
    "Magnitud (MI) (float64)\n",
    "Rms (Seg) / Velocidad del sismo (float64)\n",
    "Gap (Grados) (int64)\n",
    "Error Latitud (Km) (float64)\n",
    "Error Longitud (Km) (float64)\n",
    "Error Profundidad (Km) (float64)\n",
    "\n",
    "Variables Categóricas \n",
    "\n",
    "Fecha datetime64[ns]\n",
    "Hora (object)\n",
    "Municipio (object)\n",
    "Intensidad (int64)'''"
   ]
  },
  {
   "cell_type": "markdown",
   "metadata": {},
   "source": []
  },
  {
   "cell_type": "code",
   "execution_count": 29,
   "metadata": {},
   "outputs": [],
   "source": [
    "categorical_features = [\"Fecha\",\"Hora\",\"Municipio\"] #No incluir \"Intensidad\" porqué será mi target\n",
    "numerical_features = [\"Latitud\",\"Longitud\",\"Profundidad (Km)\",\"Magnitud (MI)\",\"Rms (Seg) / Velocidad del sismo\",\"Gap (Grados)\",\"Error Latitud (Km)\",\"Error Longitud (Km)\",\"Error Profundidad (Km)\"]"
   ]
  },
  {
   "cell_type": "markdown",
   "metadata": {},
   "source": [
    "# Preprocesamiento para las variables numericas / categoricas"
   ]
  },
  {
   "cell_type": "code",
   "execution_count": 30,
   "metadata": {},
   "outputs": [],
   "source": [
    "#Me hará los cambios de 0 a 1 de los datos\n",
    "numerical_transformer = MinMaxScaler()\n",
    "\n",
    "#Aqui utilizaré OneHot para realizar el cambio de la variable categoricas\n",
    "categorical_transformer = OneHotEncoder(handle_unknown=\"ignore\") #handle_unknown=\"ignore\" me ayuda para los valores que estan faltantes al momento de la prediccion y el entrenamiento ignorarlo."
   ]
  },
  {
   "cell_type": "code",
   "execution_count": 31,
   "metadata": {},
   "outputs": [],
   "source": [
    "preprocessor = ColumnTransformer(\n",
    "    transformers= [\n",
    "        (\"encoder\", categorical_transformer, categorical_features),\n",
    "        (\"numerica\", numerical_transformer, numerical_features)\n",
    "    ]\n",
    ")"
   ]
  },
  {
   "cell_type": "markdown",
   "metadata": {},
   "source": [
    "# Creacion del Pipeline"
   ]
  },
  {
   "cell_type": "code",
   "execution_count": 32,
   "metadata": {},
   "outputs": [],
   "source": [
    "Pipeline = Pipeline([\n",
    "    (\"preprocessor\",preprocessor),\n",
    "    (\"feature_selection\",SelectKBest(score_func=f_classif, k=10)), #Donde K será los mejores parametros\n",
    "    (\"classifier\", LogisticRegression(max_iter=1000, random_state=42)) #Maximo de iteraciones será de 1000\n",
    "]) "
   ]
  },
  {
   "cell_type": "markdown",
   "metadata": {},
   "source": [
    "# Optimizacion de Hiperparámetros"
   ]
  },
  {
   "cell_type": "code",
   "execution_count": 33,
   "metadata": {},
   "outputs": [],
   "source": [
    "param_grid = {\n",
    "    \"feature_selection__k\":[5,7,10],\n",
    "    \"classifier__C\":[0.1,1,10],\n",
    "    \"classifier__solver\":[\"liblinear\",\"ibfgs\"]\n",
    "}"
   ]
  },
  {
   "cell_type": "code",
   "execution_count": 34,
   "metadata": {},
   "outputs": [
    {
     "name": "stderr",
     "output_type": "stream",
     "text": [
      "c:\\Users\\user\\Downloads\\anaconda3\\Lib\\site-packages\\sklearn\\model_selection\\_validation.py:425: FitFailedWarning: \n",
      "18 fits failed out of a total of 36.\n",
      "The score on these train-test partitions for these parameters will be set to nan.\n",
      "If these failures are not expected, you can try to debug them by setting error_score='raise'.\n",
      "\n",
      "Below are more details about the failures:\n",
      "--------------------------------------------------------------------------------\n",
      "18 fits failed with the following error:\n",
      "Traceback (most recent call last):\n",
      "  File \"c:\\Users\\user\\Downloads\\anaconda3\\Lib\\site-packages\\sklearn\\model_selection\\_validation.py\", line 732, in _fit_and_score\n",
      "    estimator.fit(X_train, y_train, **fit_params)\n",
      "  File \"c:\\Users\\user\\Downloads\\anaconda3\\Lib\\site-packages\\sklearn\\base.py\", line 1151, in wrapper\n",
      "    return fit_method(estimator, *args, **kwargs)\n",
      "           ^^^^^^^^^^^^^^^^^^^^^^^^^^^^^^^^^^^^^^\n",
      "  File \"c:\\Users\\user\\Downloads\\anaconda3\\Lib\\site-packages\\sklearn\\pipeline.py\", line 420, in fit\n",
      "    self._final_estimator.fit(Xt, y, **fit_params_last_step)\n",
      "  File \"c:\\Users\\user\\Downloads\\anaconda3\\Lib\\site-packages\\sklearn\\base.py\", line 1144, in wrapper\n",
      "    estimator._validate_params()\n",
      "  File \"c:\\Users\\user\\Downloads\\anaconda3\\Lib\\site-packages\\sklearn\\base.py\", line 637, in _validate_params\n",
      "    validate_parameter_constraints(\n",
      "  File \"c:\\Users\\user\\Downloads\\anaconda3\\Lib\\site-packages\\sklearn\\utils\\_param_validation.py\", line 95, in validate_parameter_constraints\n",
      "    raise InvalidParameterError(\n",
      "sklearn.utils._param_validation.InvalidParameterError: The 'solver' parameter of LogisticRegression must be a str among {'newton-cg', 'sag', 'lbfgs', 'newton-cholesky', 'saga', 'liblinear'}. Got 'ibfgs' instead.\n",
      "\n",
      "  warnings.warn(some_fits_failed_message, FitFailedWarning)\n",
      "c:\\Users\\user\\Downloads\\anaconda3\\Lib\\site-packages\\sklearn\\model_selection\\_search.py:976: UserWarning: One or more of the test scores are non-finite: [0.06032253 0.06032253 0.06032253        nan        nan        nan\n",
      " 0.0904273  0.0904273  0.0904273         nan        nan        nan\n",
      " 0.12006318 0.12006318 0.12006318        nan        nan        nan]\n",
      "  warnings.warn(\n"
     ]
    },
    {
     "data": {
      "text/html": [
       "<style>#sk-container-id-1 {color: black;}#sk-container-id-1 pre{padding: 0;}#sk-container-id-1 div.sk-toggleable {background-color: white;}#sk-container-id-1 label.sk-toggleable__label {cursor: pointer;display: block;width: 100%;margin-bottom: 0;padding: 0.3em;box-sizing: border-box;text-align: center;}#sk-container-id-1 label.sk-toggleable__label-arrow:before {content: \"▸\";float: left;margin-right: 0.25em;color: #696969;}#sk-container-id-1 label.sk-toggleable__label-arrow:hover:before {color: black;}#sk-container-id-1 div.sk-estimator:hover label.sk-toggleable__label-arrow:before {color: black;}#sk-container-id-1 div.sk-toggleable__content {max-height: 0;max-width: 0;overflow: hidden;text-align: left;background-color: #f0f8ff;}#sk-container-id-1 div.sk-toggleable__content pre {margin: 0.2em;color: black;border-radius: 0.25em;background-color: #f0f8ff;}#sk-container-id-1 input.sk-toggleable__control:checked~div.sk-toggleable__content {max-height: 200px;max-width: 100%;overflow: auto;}#sk-container-id-1 input.sk-toggleable__control:checked~label.sk-toggleable__label-arrow:before {content: \"▾\";}#sk-container-id-1 div.sk-estimator input.sk-toggleable__control:checked~label.sk-toggleable__label {background-color: #d4ebff;}#sk-container-id-1 div.sk-label input.sk-toggleable__control:checked~label.sk-toggleable__label {background-color: #d4ebff;}#sk-container-id-1 input.sk-hidden--visually {border: 0;clip: rect(1px 1px 1px 1px);clip: rect(1px, 1px, 1px, 1px);height: 1px;margin: -1px;overflow: hidden;padding: 0;position: absolute;width: 1px;}#sk-container-id-1 div.sk-estimator {font-family: monospace;background-color: #f0f8ff;border: 1px dotted black;border-radius: 0.25em;box-sizing: border-box;margin-bottom: 0.5em;}#sk-container-id-1 div.sk-estimator:hover {background-color: #d4ebff;}#sk-container-id-1 div.sk-parallel-item::after {content: \"\";width: 100%;border-bottom: 1px solid gray;flex-grow: 1;}#sk-container-id-1 div.sk-label:hover label.sk-toggleable__label {background-color: #d4ebff;}#sk-container-id-1 div.sk-serial::before {content: \"\";position: absolute;border-left: 1px solid gray;box-sizing: border-box;top: 0;bottom: 0;left: 50%;z-index: 0;}#sk-container-id-1 div.sk-serial {display: flex;flex-direction: column;align-items: center;background-color: white;padding-right: 0.2em;padding-left: 0.2em;position: relative;}#sk-container-id-1 div.sk-item {position: relative;z-index: 1;}#sk-container-id-1 div.sk-parallel {display: flex;align-items: stretch;justify-content: center;background-color: white;position: relative;}#sk-container-id-1 div.sk-item::before, #sk-container-id-1 div.sk-parallel-item::before {content: \"\";position: absolute;border-left: 1px solid gray;box-sizing: border-box;top: 0;bottom: 0;left: 50%;z-index: -1;}#sk-container-id-1 div.sk-parallel-item {display: flex;flex-direction: column;z-index: 1;position: relative;background-color: white;}#sk-container-id-1 div.sk-parallel-item:first-child::after {align-self: flex-end;width: 50%;}#sk-container-id-1 div.sk-parallel-item:last-child::after {align-self: flex-start;width: 50%;}#sk-container-id-1 div.sk-parallel-item:only-child::after {width: 0;}#sk-container-id-1 div.sk-dashed-wrapped {border: 1px dashed gray;margin: 0 0.4em 0.5em 0.4em;box-sizing: border-box;padding-bottom: 0.4em;background-color: white;}#sk-container-id-1 div.sk-label label {font-family: monospace;font-weight: bold;display: inline-block;line-height: 1.2em;}#sk-container-id-1 div.sk-label-container {text-align: center;}#sk-container-id-1 div.sk-container {/* jupyter's `normalize.less` sets `[hidden] { display: none; }` but bootstrap.min.css set `[hidden] { display: none !important; }` so we also need the `!important` here to be able to override the default hidden behavior on the sphinx rendered scikit-learn.org. See: https://github.com/scikit-learn/scikit-learn/issues/21755 */display: inline-block !important;position: relative;}#sk-container-id-1 div.sk-text-repr-fallback {display: none;}</style><div id=\"sk-container-id-1\" class=\"sk-top-container\"><div class=\"sk-text-repr-fallback\"><pre>GridSearchCV(cv=2,\n",
       "             estimator=Pipeline(steps=[(&#x27;preprocessor&#x27;,\n",
       "                                        ColumnTransformer(transformers=[(&#x27;encoder&#x27;,\n",
       "                                                                         OneHotEncoder(handle_unknown=&#x27;ignore&#x27;),\n",
       "                                                                         [&#x27;Fecha&#x27;,\n",
       "                                                                          &#x27;Hora&#x27;,\n",
       "                                                                          &#x27;Municipio&#x27;]),\n",
       "                                                                        (&#x27;numerica&#x27;,\n",
       "                                                                         MinMaxScaler(),\n",
       "                                                                         [&#x27;Latitud&#x27;,\n",
       "                                                                          &#x27;Longitud&#x27;,\n",
       "                                                                          &#x27;Profundidad &#x27;\n",
       "                                                                          &#x27;(Km)&#x27;,\n",
       "                                                                          &#x27;Magnitud &#x27;\n",
       "                                                                          &#x27;(MI)&#x27;,\n",
       "                                                                          &#x27;Rms &#x27;\n",
       "                                                                          &#x27;(Seg) &#x27;\n",
       "                                                                          &#x27;/ &#x27;\n",
       "                                                                          &#x27;Velocidad &#x27;\n",
       "                                                                          &#x27;del &#x27;\n",
       "                                                                          &#x27;sismo&#x27;,\n",
       "                                                                          &#x27;Gap &#x27;\n",
       "                                                                          &#x27;(Grados)&#x27;,\n",
       "                                                                          &#x27;Error &#x27;\n",
       "                                                                          &#x27;Latitud &#x27;\n",
       "                                                                          &#x27;(Km)&#x27;,\n",
       "                                                                          &#x27;Error &#x27;\n",
       "                                                                          &#x27;Longitud &#x27;\n",
       "                                                                          &#x27;(Km)&#x27;,\n",
       "                                                                          &#x27;Error &#x27;\n",
       "                                                                          &#x27;Profundidad &#x27;\n",
       "                                                                          &#x27;(Km)&#x27;])])),\n",
       "                                       (&#x27;feature_selection&#x27;, SelectKBest()),\n",
       "                                       (&#x27;classifier&#x27;,\n",
       "                                        LogisticRegression(max_iter=1000,\n",
       "                                                           random_state=42))]),\n",
       "             n_jobs=1,\n",
       "             param_grid={&#x27;classifier__C&#x27;: [0.1, 1, 10],\n",
       "                         &#x27;classifier__solver&#x27;: [&#x27;liblinear&#x27;, &#x27;ibfgs&#x27;],\n",
       "                         &#x27;feature_selection__k&#x27;: [5, 7, 10]},\n",
       "             scoring=&#x27;balanced_accuracy&#x27;)</pre><b>In a Jupyter environment, please rerun this cell to show the HTML representation or trust the notebook. <br />On GitHub, the HTML representation is unable to render, please try loading this page with nbviewer.org.</b></div><div class=\"sk-container\" hidden><div class=\"sk-item sk-dashed-wrapped\"><div class=\"sk-label-container\"><div class=\"sk-label sk-toggleable\"><input class=\"sk-toggleable__control sk-hidden--visually\" id=\"sk-estimator-id-1\" type=\"checkbox\" ><label for=\"sk-estimator-id-1\" class=\"sk-toggleable__label sk-toggleable__label-arrow\">GridSearchCV</label><div class=\"sk-toggleable__content\"><pre>GridSearchCV(cv=2,\n",
       "             estimator=Pipeline(steps=[(&#x27;preprocessor&#x27;,\n",
       "                                        ColumnTransformer(transformers=[(&#x27;encoder&#x27;,\n",
       "                                                                         OneHotEncoder(handle_unknown=&#x27;ignore&#x27;),\n",
       "                                                                         [&#x27;Fecha&#x27;,\n",
       "                                                                          &#x27;Hora&#x27;,\n",
       "                                                                          &#x27;Municipio&#x27;]),\n",
       "                                                                        (&#x27;numerica&#x27;,\n",
       "                                                                         MinMaxScaler(),\n",
       "                                                                         [&#x27;Latitud&#x27;,\n",
       "                                                                          &#x27;Longitud&#x27;,\n",
       "                                                                          &#x27;Profundidad &#x27;\n",
       "                                                                          &#x27;(Km)&#x27;,\n",
       "                                                                          &#x27;Magnitud &#x27;\n",
       "                                                                          &#x27;(MI)&#x27;,\n",
       "                                                                          &#x27;Rms &#x27;\n",
       "                                                                          &#x27;(Seg) &#x27;\n",
       "                                                                          &#x27;/ &#x27;\n",
       "                                                                          &#x27;Velocidad &#x27;\n",
       "                                                                          &#x27;del &#x27;\n",
       "                                                                          &#x27;sismo&#x27;,\n",
       "                                                                          &#x27;Gap &#x27;\n",
       "                                                                          &#x27;(Grados)&#x27;,\n",
       "                                                                          &#x27;Error &#x27;\n",
       "                                                                          &#x27;Latitud &#x27;\n",
       "                                                                          &#x27;(Km)&#x27;,\n",
       "                                                                          &#x27;Error &#x27;\n",
       "                                                                          &#x27;Longitud &#x27;\n",
       "                                                                          &#x27;(Km)&#x27;,\n",
       "                                                                          &#x27;Error &#x27;\n",
       "                                                                          &#x27;Profundidad &#x27;\n",
       "                                                                          &#x27;(Km)&#x27;])])),\n",
       "                                       (&#x27;feature_selection&#x27;, SelectKBest()),\n",
       "                                       (&#x27;classifier&#x27;,\n",
       "                                        LogisticRegression(max_iter=1000,\n",
       "                                                           random_state=42))]),\n",
       "             n_jobs=1,\n",
       "             param_grid={&#x27;classifier__C&#x27;: [0.1, 1, 10],\n",
       "                         &#x27;classifier__solver&#x27;: [&#x27;liblinear&#x27;, &#x27;ibfgs&#x27;],\n",
       "                         &#x27;feature_selection__k&#x27;: [5, 7, 10]},\n",
       "             scoring=&#x27;balanced_accuracy&#x27;)</pre></div></div></div><div class=\"sk-parallel\"><div class=\"sk-parallel-item\"><div class=\"sk-item\"><div class=\"sk-label-container\"><div class=\"sk-label sk-toggleable\"><input class=\"sk-toggleable__control sk-hidden--visually\" id=\"sk-estimator-id-2\" type=\"checkbox\" ><label for=\"sk-estimator-id-2\" class=\"sk-toggleable__label sk-toggleable__label-arrow\">estimator: Pipeline</label><div class=\"sk-toggleable__content\"><pre>Pipeline(steps=[(&#x27;preprocessor&#x27;,\n",
       "                 ColumnTransformer(transformers=[(&#x27;encoder&#x27;,\n",
       "                                                  OneHotEncoder(handle_unknown=&#x27;ignore&#x27;),\n",
       "                                                  [&#x27;Fecha&#x27;, &#x27;Hora&#x27;,\n",
       "                                                   &#x27;Municipio&#x27;]),\n",
       "                                                 (&#x27;numerica&#x27;, MinMaxScaler(),\n",
       "                                                  [&#x27;Latitud&#x27;, &#x27;Longitud&#x27;,\n",
       "                                                   &#x27;Profundidad (Km)&#x27;,\n",
       "                                                   &#x27;Magnitud (MI)&#x27;,\n",
       "                                                   &#x27;Rms (Seg) / Velocidad del &#x27;\n",
       "                                                   &#x27;sismo&#x27;,\n",
       "                                                   &#x27;Gap (Grados)&#x27;,\n",
       "                                                   &#x27;Error Latitud (Km)&#x27;,\n",
       "                                                   &#x27;Error Longitud (Km)&#x27;,\n",
       "                                                   &#x27;Error Profundidad &#x27;\n",
       "                                                   &#x27;(Km)&#x27;])])),\n",
       "                (&#x27;feature_selection&#x27;, SelectKBest()),\n",
       "                (&#x27;classifier&#x27;,\n",
       "                 LogisticRegression(max_iter=1000, random_state=42))])</pre></div></div></div><div class=\"sk-serial\"><div class=\"sk-item\"><div class=\"sk-serial\"><div class=\"sk-item sk-dashed-wrapped\"><div class=\"sk-label-container\"><div class=\"sk-label sk-toggleable\"><input class=\"sk-toggleable__control sk-hidden--visually\" id=\"sk-estimator-id-3\" type=\"checkbox\" ><label for=\"sk-estimator-id-3\" class=\"sk-toggleable__label sk-toggleable__label-arrow\">preprocessor: ColumnTransformer</label><div class=\"sk-toggleable__content\"><pre>ColumnTransformer(transformers=[(&#x27;encoder&#x27;,\n",
       "                                 OneHotEncoder(handle_unknown=&#x27;ignore&#x27;),\n",
       "                                 [&#x27;Fecha&#x27;, &#x27;Hora&#x27;, &#x27;Municipio&#x27;]),\n",
       "                                (&#x27;numerica&#x27;, MinMaxScaler(),\n",
       "                                 [&#x27;Latitud&#x27;, &#x27;Longitud&#x27;, &#x27;Profundidad (Km)&#x27;,\n",
       "                                  &#x27;Magnitud (MI)&#x27;,\n",
       "                                  &#x27;Rms (Seg) / Velocidad del sismo&#x27;,\n",
       "                                  &#x27;Gap (Grados)&#x27;, &#x27;Error Latitud (Km)&#x27;,\n",
       "                                  &#x27;Error Longitud (Km)&#x27;,\n",
       "                                  &#x27;Error Profundidad (Km)&#x27;])])</pre></div></div></div><div class=\"sk-parallel\"><div class=\"sk-parallel-item\"><div class=\"sk-item\"><div class=\"sk-label-container\"><div class=\"sk-label sk-toggleable\"><input class=\"sk-toggleable__control sk-hidden--visually\" id=\"sk-estimator-id-4\" type=\"checkbox\" ><label for=\"sk-estimator-id-4\" class=\"sk-toggleable__label sk-toggleable__label-arrow\">encoder</label><div class=\"sk-toggleable__content\"><pre>[&#x27;Fecha&#x27;, &#x27;Hora&#x27;, &#x27;Municipio&#x27;]</pre></div></div></div><div class=\"sk-serial\"><div class=\"sk-item\"><div class=\"sk-estimator sk-toggleable\"><input class=\"sk-toggleable__control sk-hidden--visually\" id=\"sk-estimator-id-5\" type=\"checkbox\" ><label for=\"sk-estimator-id-5\" class=\"sk-toggleable__label sk-toggleable__label-arrow\">OneHotEncoder</label><div class=\"sk-toggleable__content\"><pre>OneHotEncoder(handle_unknown=&#x27;ignore&#x27;)</pre></div></div></div></div></div></div><div class=\"sk-parallel-item\"><div class=\"sk-item\"><div class=\"sk-label-container\"><div class=\"sk-label sk-toggleable\"><input class=\"sk-toggleable__control sk-hidden--visually\" id=\"sk-estimator-id-6\" type=\"checkbox\" ><label for=\"sk-estimator-id-6\" class=\"sk-toggleable__label sk-toggleable__label-arrow\">numerica</label><div class=\"sk-toggleable__content\"><pre>[&#x27;Latitud&#x27;, &#x27;Longitud&#x27;, &#x27;Profundidad (Km)&#x27;, &#x27;Magnitud (MI)&#x27;, &#x27;Rms (Seg) / Velocidad del sismo&#x27;, &#x27;Gap (Grados)&#x27;, &#x27;Error Latitud (Km)&#x27;, &#x27;Error Longitud (Km)&#x27;, &#x27;Error Profundidad (Km)&#x27;]</pre></div></div></div><div class=\"sk-serial\"><div class=\"sk-item\"><div class=\"sk-estimator sk-toggleable\"><input class=\"sk-toggleable__control sk-hidden--visually\" id=\"sk-estimator-id-7\" type=\"checkbox\" ><label for=\"sk-estimator-id-7\" class=\"sk-toggleable__label sk-toggleable__label-arrow\">MinMaxScaler</label><div class=\"sk-toggleable__content\"><pre>MinMaxScaler()</pre></div></div></div></div></div></div></div></div><div class=\"sk-item\"><div class=\"sk-estimator sk-toggleable\"><input class=\"sk-toggleable__control sk-hidden--visually\" id=\"sk-estimator-id-8\" type=\"checkbox\" ><label for=\"sk-estimator-id-8\" class=\"sk-toggleable__label sk-toggleable__label-arrow\">SelectKBest</label><div class=\"sk-toggleable__content\"><pre>SelectKBest()</pre></div></div></div><div class=\"sk-item\"><div class=\"sk-estimator sk-toggleable\"><input class=\"sk-toggleable__control sk-hidden--visually\" id=\"sk-estimator-id-9\" type=\"checkbox\" ><label for=\"sk-estimator-id-9\" class=\"sk-toggleable__label sk-toggleable__label-arrow\">LogisticRegression</label><div class=\"sk-toggleable__content\"><pre>LogisticRegression(max_iter=1000, random_state=42)</pre></div></div></div></div></div></div></div></div></div></div></div></div>"
      ],
      "text/plain": [
       "GridSearchCV(cv=2,\n",
       "             estimator=Pipeline(steps=[('preprocessor',\n",
       "                                        ColumnTransformer(transformers=[('encoder',\n",
       "                                                                         OneHotEncoder(handle_unknown='ignore'),\n",
       "                                                                         ['Fecha',\n",
       "                                                                          'Hora',\n",
       "                                                                          'Municipio']),\n",
       "                                                                        ('numerica',\n",
       "                                                                         MinMaxScaler(),\n",
       "                                                                         ['Latitud',\n",
       "                                                                          'Longitud',\n",
       "                                                                          'Profundidad '\n",
       "                                                                          '(Km)',\n",
       "                                                                          'Magnitud '\n",
       "                                                                          '(MI)',\n",
       "                                                                          'Rms '\n",
       "                                                                          '(Seg) '\n",
       "                                                                          '/ '\n",
       "                                                                          'Velocidad '\n",
       "                                                                          'del '\n",
       "                                                                          'sismo',\n",
       "                                                                          'Gap '\n",
       "                                                                          '(Grados)',\n",
       "                                                                          'Error '\n",
       "                                                                          'Latitud '\n",
       "                                                                          '(Km)',\n",
       "                                                                          'Error '\n",
       "                                                                          'Longitud '\n",
       "                                                                          '(Km)',\n",
       "                                                                          'Error '\n",
       "                                                                          'Profundidad '\n",
       "                                                                          '(Km)'])])),\n",
       "                                       ('feature_selection', SelectKBest()),\n",
       "                                       ('classifier',\n",
       "                                        LogisticRegression(max_iter=1000,\n",
       "                                                           random_state=42))]),\n",
       "             n_jobs=1,\n",
       "             param_grid={'classifier__C': [0.1, 1, 10],\n",
       "                         'classifier__solver': ['liblinear', 'ibfgs'],\n",
       "                         'feature_selection__k': [5, 7, 10]},\n",
       "             scoring='balanced_accuracy')"
      ]
     },
     "execution_count": 34,
     "metadata": {},
     "output_type": "execute_result"
    }
   ],
   "source": [
    "grid_search = GridSearchCV(Pipeline, param_grid, cv=2, scoring=\"balanced_accuracy\",n_jobs=1,refit=True)\n",
    "grid_search.fit(X_train, y_train)"
   ]
  },
  {
   "cell_type": "code",
   "execution_count": 35,
   "metadata": {},
   "outputs": [
    {
     "name": "stdout",
     "output_type": "stream",
     "text": [
      "Mejores parámetros:  {'classifier__C': 10, 'classifier__solver': 'liblinear', 'feature_selection__k': 5}\n"
     ]
    }
   ],
   "source": [
    "print(\"Mejores parámetros: \", grid_search.best_params_)\n",
    "best_model = grid_search.best_estimator_"
   ]
  },
  {
   "cell_type": "markdown",
   "metadata": {},
   "source": [
    "# Evaluacion del modelo"
   ]
  },
  {
   "cell_type": "code",
   "execution_count": 36,
   "metadata": {},
   "outputs": [],
   "source": [
    "# Predicciones\n",
    "y_train_pred = best_model.predict(X_train)\n",
    "y_test_pred = best_model.predict(X_test)"
   ]
  },
  {
   "cell_type": "code",
   "execution_count": 37,
   "metadata": {},
   "outputs": [
    {
     "name": "stdout",
     "output_type": "stream",
     "text": [
      "{'Train': {'Accuracy': 0.3474829471785332, 'Balanced accuracy': 0.1472555920758472, 'Precision': 0.14119154662505168, 'Recall': 0.1472555920758472, 'F1-Score': 0.12935697310772595}, 'Test': {'Accuracy': 0.3397970687711387, 'Balanced accuracy': 0.11277954122718295, 'Precision': 0.08029200850578196, 'Recall': 0.11277954122718295, 'F1-Score': 0.0866391514784546}}\n"
     ]
    },
    {
     "name": "stderr",
     "output_type": "stream",
     "text": [
      "c:\\Users\\user\\Downloads\\anaconda3\\Lib\\site-packages\\sklearn\\metrics\\_classification.py:1469: UndefinedMetricWarning: Precision is ill-defined and being set to 0.0 in labels with no predicted samples. Use `zero_division` parameter to control this behavior.\n",
      "  _warn_prf(average, modifier, msg_start, len(result))\n",
      "c:\\Users\\user\\Downloads\\anaconda3\\Lib\\site-packages\\sklearn\\metrics\\_classification.py:1469: UndefinedMetricWarning: Precision is ill-defined and being set to 0.0 in labels with no predicted samples. Use `zero_division` parameter to control this behavior.\n",
      "  _warn_prf(average, modifier, msg_start, len(result))\n"
     ]
    }
   ],
   "source": [
    "# Métricas\n",
    "metrics = {\n",
    "    \"Train\": {\n",
    "        \"Accuracy\": accuracy_score(y_train, y_train_pred),\n",
    "        \"Balanced accuracy\": balanced_accuracy_score(y_train, y_train_pred),\n",
    "        \"Precision\": precision_score(y_train, y_train_pred, average='macro'),\n",
    "        \"Recall\": recall_score(y_train, y_train_pred, average='macro'),\n",
    "        \"F1-Score\": f1_score(y_train, y_train_pred, average='macro')\n",
    "    },\n",
    "    \"Test\": {\n",
    "        \"Accuracy\": accuracy_score(y_test, y_test_pred),\n",
    "        \"Balanced accuracy\": balanced_accuracy_score(y_test, y_test_pred),\n",
    "        \"Precision\": precision_score(y_test, y_test_pred, average='macro'),\n",
    "        \"Recall\": recall_score(y_test, y_test_pred, average='macro'),\n",
    "        \"F1-Score\": f1_score(y_test, y_test_pred, average='macro')\n",
    "    }\n",
    "}\n",
    "\n",
    "print(metrics)"
   ]
  },
  {
   "cell_type": "code",
   "execution_count": 39,
   "metadata": {},
   "outputs": [
    {
     "data": {
      "text/plain": [
       "'macro: Calcula la métrica de manera independiente para cada clase y luego toma el promedio. Trata todas las clases por igual.\\nmicro: Calcula las métricas globalmente considerando todas las instancias de todas las clases.\\nweighted: Similar a macro, pero pondera las métricas de cada clase por el número de instancias en esa clase.'"
      ]
     },
     "execution_count": 39,
     "metadata": {},
     "output_type": "execute_result"
    }
   ],
   "source": [
    "'''macro: Calcula la métrica de manera independiente para cada clase y luego toma el promedio. Trata todas las clases por igual.\n",
    "micro: Calcula las métricas globalmente considerando todas las instancias de todas las clases.\n",
    "weighted: Similar a macro, pero pondera las métricas de cada clase por el número de instancias en esa clase.'''"
   ]
  },
  {
   "cell_type": "markdown",
   "metadata": {},
   "source": [
    "# Grafica de precisión del modelo"
   ]
  },
  {
   "cell_type": "markdown",
   "metadata": {},
   "source": [
    "Grafica donde puedo ver la precision del modelo y el peso de la presion que esta generando en los datos"
   ]
  },
  {
   "cell_type": "code",
   "execution_count": 40,
   "metadata": {},
   "outputs": [
    {
     "data": {
      "image/png": "[encoded data removed]",
      "text/plain": [
       "<Figure size 1000x600 with 1 Axes>"
      ]
     },
     "metadata": {},
     "output_type": "display_data"
    }
   ],
   "source": [
    "import matplotlib.pyplot as plt\n",
    "import numpy as np\n",
    "import seaborn as sn\n",
    "\n",
    "# Datos de las métricas\n",
    "metrics_names = list(metrics[\"Train\"].keys())\n",
    "train_metrics = list(metrics[\"Train\"].values())\n",
    "test_metrics = list(metrics[\"Test\"].values())\n",
    "\n",
    "# Configuración del gráfico\n",
    "x = np.arange(len(metrics_names))  # Posición de las métricas\n",
    "width = 0.35  # Ancho de las barras\n",
    "\n",
    "fig, ax = plt.subplots(figsize=(10, 6))\n",
    "\n",
    "# Barras para los datos de entrenamiento y prueba\n",
    "bars1 = ax.bar(x - width/2, train_metrics, width, label=\"Entrenamiento\", color=\"skyblue\")\n",
    "bars2 = ax.bar(x + width/2, test_metrics, width, label=\"Prueba\", color=\"salmon\")\n",
    "\n",
    "# Etiquetas y título\n",
    "ax.set_xlabel(\"Métricas\")\n",
    "ax.set_ylabel(\"Valor\")\n",
    "ax.set_title(\"Métricas de evaluación del modelo\")\n",
    "ax.set_xticks(x)\n",
    "ax.set_xticklabels(metrics_names)\n",
    "ax.legend()\n",
    "\n",
    "# Mostrar valores en las barras\n",
    "for bar in bars1 + bars2:\n",
    "    height = bar.get_height()\n",
    "    ax.annotate(f'{height:.2f}',\n",
    "                xy=(bar.get_x() + bar.get_width() / 2, height),\n",
    "                xytext=(0, 3),  # Desplazamiento de texto\n",
    "                textcoords=\"offset points\",\n",
    "                ha='center', va='bottom')\n",
    "\n",
    "plt.tight_layout()\n",
    "plt.show()"
   ]
  },
  {
   "cell_type": "markdown",
   "metadata": {},
   "source": [
    "La siguiente función me permite medir la intensidad sismica bajo los parametros que maneja el servicio geologico colombiano."
   ]
  },
  {
   "cell_type": "code",
   "execution_count": 42,
   "metadata": {},
   "outputs": [
    {
     "name": "stdout",
     "output_type": "stream",
     "text": [
      "Introduce las características del sismo para predecir el daño:\n"
     ]
    },
    {
     "ename": "ValueError",
     "evalue": "could not convert string to float: ''",
     "output_type": "error",
     "traceback": [
      "\u001b[1;31m---------------------------------------------------------------------------\u001b[0m",
      "\u001b[1;31mValueError\u001b[0m                                Traceback (most recent call last)",
      "Cell \u001b[1;32mIn[42], line 77\u001b[0m\n\u001b[0;32m     74\u001b[0m best_model \u001b[38;5;241m=\u001b[39m grid_search\u001b[38;5;241m.\u001b[39mbest_estimator_\n\u001b[0;32m     76\u001b[0m \u001b[38;5;66;03m# Interacción\u001b[39;00m\n\u001b[1;32m---> 77\u001b[0m predict_damage(best_model, categorical_features, numerical_features)\n",
      "Cell \u001b[1;32mIn[42], line 52\u001b[0m, in \u001b[0;36mpredict_damage\u001b[1;34m(model, categorical_features, numerical_features)\u001b[0m\n\u001b[0;32m     50\u001b[0m user_input \u001b[38;5;241m=\u001b[39m {}\n\u001b[0;32m     51\u001b[0m \u001b[38;5;28;01mfor\u001b[39;00m feature \u001b[38;5;129;01min\u001b[39;00m numerical_features:\n\u001b[1;32m---> 52\u001b[0m     user_input[feature] \u001b[38;5;241m=\u001b[39m \u001b[38;5;28mfloat\u001b[39m(\u001b[38;5;28minput\u001b[39m(\u001b[38;5;124mf\u001b[39m\u001b[38;5;124m\"\u001b[39m\u001b[38;5;124mIngrese el valor para \u001b[39m\u001b[38;5;132;01m{\u001b[39;00mfeature\u001b[38;5;132;01m}\u001b[39;00m\u001b[38;5;124m: \u001b[39m\u001b[38;5;124m\"\u001b[39m))\n\u001b[0;32m     54\u001b[0m \u001b[38;5;28;01mfor\u001b[39;00m feature \u001b[38;5;129;01min\u001b[39;00m categorical_features:\n\u001b[0;32m     55\u001b[0m     user_input[feature] \u001b[38;5;241m=\u001b[39m \u001b[38;5;28minput\u001b[39m(\u001b[38;5;124mf\u001b[39m\u001b[38;5;124m\"\u001b[39m\u001b[38;5;124mIngrese el valor para \u001b[39m\u001b[38;5;132;01m{\u001b[39;00mfeature\u001b[38;5;132;01m}\u001b[39;00m\u001b[38;5;124m: \u001b[39m\u001b[38;5;124m\"\u001b[39m)\n",
      "\u001b[1;31mValueError\u001b[0m: could not convert string to float: ''"
     ]
    }
   ],
   "source": [
    "# Función para clasificar daño basado en la intensidad\n",
    "def classify_damage(intensity):\n",
    "    if intensity <= 1:\n",
    "        return \"No sentido\"\n",
    "    elif intensity == 2:\n",
    "        return\"Apenas sentido\"\n",
    "    elif intensity == 3:\n",
    "        return \"Sentido Levemente\"\n",
    "    elif intensity == 4:\n",
    "        return \"Sentido ampliamente\"\n",
    "    elif intensity == 5:\n",
    "        return \"Sentido fuertemente\"\n",
    "    elif intensity == 6:\n",
    "        return \"Daño Leve\"\n",
    "    elif intensity == 7:\n",
    "        return \"Daño Moderado\"\n",
    "    elif intensity == 8:\n",
    "        return \"Daño Severo\"\n",
    "    elif intensity == 9:\n",
    "        return \"Daño Destructivo\"\n",
    "    elif intensity == 10:\n",
    "        return \"Daño muy destructivo\"\n",
    "    elif intensity == 11:\n",
    "        return \"Devastador\"\n",
    "    else:\n",
    "        return \"Completamente Devastador \"\n",
    "    \n",
    "'''No sentido\n",
    "1 No sentido\n",
    "2 Apenas sentido\n",
    "3 Sentido Levemente\n",
    "4 Sentido ampliamente\n",
    "5 Sentido fuertemente\n",
    "6 Daño Leve\n",
    "7 Daño Moderado\n",
    "8 Daño Severo\n",
    "9 Daño Destructivo\n",
    "10 Daño muy destructivo\n",
    "11 Devastador\n",
    "12 Completamente Devastador'''\n",
    "\n",
    "#Escala macrosísmica europea\n",
    "\n",
    "\n",
    "# Predicción interactiva\n",
    "def predict_damage(model, categorical_features, numerical_features):\n",
    "    print(\"Introduce las características del sismo para predecir el daño:\")\n",
    "    \n",
    "    # Recolectar datos\n",
    "    user_input = {}\n",
    "    for feature in numerical_features:\n",
    "        user_input[feature] = float(input(f\"Ingrese el valor para {feature}: \"))\n",
    "    \n",
    "    for feature in categorical_features:\n",
    "        user_input[feature] = input(f\"Ingrese el valor para {feature}: \")\n",
    "\n",
    "    # Crear DataFrame con entrada del usuario\n",
    "    user_data = pd.DataFrame([user_input])\n",
    "    \n",
    "    # Preprocesar y predecir\n",
    "    intensity_pred = model.predict(user_data)[0]\n",
    "    damage_category = classify_damage(intensity_pred)\n",
    "    \n",
    "    print(f\"\\nPredicción de Intensidad: {intensity_pred}\")\n",
    "    print(f\"Categoría de Daño: {damage_category}\")\n",
    "\n",
    "# Simulación del modelo ajustado (utilizando tu pipeline y datos de entrenamiento)\n",
    "categorical_features = [\"Fecha\", \"Hora\", \"Municipio\"]\n",
    "numerical_features = [\"Latitud\", \"Longitud\", \"Profundidad (Km)\", \"Magnitud (MI)\", \n",
    "                      \"Rms (Seg) / Velocidad del sismo\", \"Gap (Grados)\", \n",
    "                      \"Error Latitud (Km)\", \"Error Longitud (Km)\", \"Error Profundidad (Km)\"]\n",
    "\n",
    "# Mejor modelo obtenido de GridSearchCV\n",
    "best_model = grid_search.best_estimator_\n",
    "\n",
    "# Interacción\n",
    "predict_damage(best_model, categorical_features, numerical_features)"
   ]
  },
  {
   "cell_type": "markdown",
   "metadata": {},
   "source": []
  },
  {
   "cell_type": "code",
   "execution_count": null,
   "metadata": {},
   "outputs": [],
   "source": []
  }
 ],
 "metadata": {
  "kernelspec": {
   "display_name": "base",
   "language": "python",
   "name": "python3"
  },
  "language_info": {
   "codemirror_mode": {
    "name": "ipython",
    "version": 3
   },
   "file_extension": ".py",
   "mimetype": "text/x-python",
   "name": "python",
   "nbconvert_exporter": "python",
   "pygments_lexer": "ipython3",
   "version": "3.11.5"
  }
 },
 "nbformat": 4,
 "nbformat_minor": 2
}
