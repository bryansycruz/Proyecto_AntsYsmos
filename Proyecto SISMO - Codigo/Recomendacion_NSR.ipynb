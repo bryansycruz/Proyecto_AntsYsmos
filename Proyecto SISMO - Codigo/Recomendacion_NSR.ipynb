{
 "cells": [
  {
   "cell_type": "code",
   "execution_count": 1,
   "metadata": {},
   "outputs": [
    {
     "name": "stdout",
     "output_type": "stream",
     "text": [
      "\n",
      "Nivel de daño: 3\n",
      "Nivel NSR: Superior\n",
      "Capítulos recomendados:\n",
      "- A.9.2 - Grado de desempeño superior\n",
      "- A.9.4 - Fuerzas sísmicas de diseño\n",
      "- B.4.2 - Cargas sísmicas en elementos no estructurales\n",
      "- D.3.7 - Muros no estructurales\n",
      "\n",
      "Nivel de daño: 6\n",
      "Nivel NSR: Bueno\n",
      "Capítulos recomendados:\n",
      "- A.9.3 - Grado de desempeño bueno\n",
      "- A.9.5 - Criterios de diseño\n",
      "- D.5 - Requisitos constructivos\n",
      "- D.11 - Evaluación y rehabilitación\n",
      "\n",
      "Nivel de daño: 9\n",
      "Nivel NSR: Bajo\n",
      "Capítulos recomendados:\n",
      "- A.9.4 - Grado de desempeño bajo\n",
      "- A.10 - Evaluación e intervención de edificaciones\n",
      "- D.11 - Evaluación y rehabilitación\n",
      "- D.12 - Rehabilitación sísmica\n"
     ]
    }
   ],
   "source": [
    "def recomendar_capitulos_nsr(nivel_daño):\n",
    "    \"\"\"\n",
    "    Recomienda capítulos de la NSR-10 según el nivel de daño observado\n",
    "    \"\"\"\n",
    "    if nivel_daño in [1, 2, 3, 4, 5]:  # No sentido hasta Sentido fuertemente\n",
    "        return {\n",
    "            \"nivel_nsr\": \"Superior\",\n",
    "            \"capitulos\": [\n",
    "                \"A.9.2 - Grado de desempeño superior\",\n",
    "                \"A.9.4 - Fuerzas sísmicas de diseño\",\n",
    "                \"B.4.2 - Cargas sísmicas en elementos no estructurales\",\n",
    "                \"D.3.7 - Muros no estructurales\"\n",
    "            ]\n",
    "        }\n",
    "    elif nivel_daño in [6, 7]:  # Daño Leve y Moderado\n",
    "        return {\n",
    "            \"nivel_nsr\": \"Bueno\",\n",
    "            \"capitulos\": [\n",
    "                \"A.9.3 - Grado de desempeño bueno\",\n",
    "                \"A.9.5 - Criterios de diseño\",\n",
    "                \"D.5 - Requisitos constructivos\",\n",
    "                \"D.11 - Evaluación y rehabilitación\"\n",
    "            ]\n",
    "        }\n",
    "    elif nivel_daño in range(8, 13):  # Daño Severo hasta Completamente Devastador\n",
    "        return {\n",
    "            \"nivel_nsr\": \"Bajo\",\n",
    "            \"capitulos\": [\n",
    "                \"A.9.4 - Grado de desempeño bajo\",\n",
    "                \"A.10 - Evaluación e intervención de edificaciones\",\n",
    "                \"D.11 - Evaluación y rehabilitación\",\n",
    "                \"D.12 - Rehabilitación sísmica\"\n",
    "            ]\n",
    "        }\n",
    "    else:\n",
    "        return \"Nivel de daño no válido. Ingrese un valor entre 1 y 12.\"\n",
    "\n",
    "# Ejemplo de uso\n",
    "for nivel in [3, 6, 9]:\n",
    "    resultado = recomendar_capitulos_nsr(nivel)\n",
    "    print(f\"\\nNivel de daño: {nivel}\")\n",
    "    print(f\"Nivel NSR: {resultado['nivel_nsr']}\")\n",
    "    print(\"Capítulos recomendados:\")\n",
    "    for capitulo in resultado['capitulos']:\n",
    "        print(f\"- {capitulo}\")"
   ]
  },
  {
   "cell_type": "code",
   "execution_count": null,
   "metadata": {},
   "outputs": [],
   "source": [
    "#RECOMENDACION DE SISTEMA LIVIANO."
   ]
  }
 ],
 "metadata": {
  "kernelspec": {
   "display_name": "base",
   "language": "python",
   "name": "python3"
  },
  "language_info": {
   "codemirror_mode": {
    "name": "ipython",
    "version": 3
   },
   "file_extension": ".py",
   "mimetype": "text/x-python",
   "name": "python",
   "nbconvert_exporter": "python",
   "pygments_lexer": "ipython3",
   "version": "3.11.5"
  }
 },
 "nbformat": 4,
 "nbformat_minor": 2
}
