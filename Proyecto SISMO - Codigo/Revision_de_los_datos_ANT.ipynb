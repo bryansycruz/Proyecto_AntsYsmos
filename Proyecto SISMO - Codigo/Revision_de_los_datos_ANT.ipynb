{
 "cells": [
  {
   "cell_type": "code",
   "execution_count": 1,
   "metadata": {},
   "outputs": [],
   "source": [
    "import pandas as pd\n",
    "import numpy as np\n",
    "import matplotlib.pyplot as plt\n",
    "import seaborn as sns"
   ]
  },
  {
   "cell_type": "code",
   "execution_count": 2,
   "metadata": {},
   "outputs": [],
   "source": [
    "df_2024 = pd.read_csv(\"C:/Users/user/Desktop/Proyect ML - UN/Proyecto SISMO - Codigo/BBDD Servicio Geologico/2024.csv\",delimiter=\";\")\n",
    "df_2018 = pd.read_csv(\"C:/Users/user/Desktop/Proyect ML - UN/Proyecto SISMO - Codigo/BBDD Servicio Geologico/2018.csv\",delimiter=\";\")"
   ]
  },
  {
   "cell_type": "code",
   "execution_count": 3,
   "metadata": {},
   "outputs": [],
   "source": [
    "#Organizar el dataset de 2024 y normalizar los datos\n",
    "df2 = df_2024\n",
    "df1 = df_2018"
   ]
  },
  {
   "cell_type": "code",
   "execution_count": 4,
   "metadata": {},
   "outputs": [],
   "source": [
    "#Eliminar columnas que no sirven en el modelo\n",
    "df2 = df2.drop(columns=[\"QuakeML\",\"Fases\",\"Mapa\",\"Estado\",\"Tipo Mag.\",\"Fases.1\"])\n",
    "df1 = df1.drop(columns=[\"ESTADO\",\"MAGNITUD Mw\",\"# FASES\",\"DEPARTAMENTO\"])"
   ]
  },
  {
   "cell_type": "code",
   "execution_count": 5,
   "metadata": {},
   "outputs": [],
   "source": [
    "#Normalizar los datos y columnas con el mismo nombre de las columnas \n",
    "df1 = df1.rename(columns={\"FECHA\":\"Fecha\",\n",
    "                            \"HORA_UTC\":\"Hora\",\n",
    "                            \"LATITUD (grados)\":\"Latitud\",\n",
    "                            \"LONGITUD (grados)\":\"Longitud\",\n",
    "                            \"PROFUNDIDAD (Km)\":\"Profundidad (Km)\",\n",
    "                            \"MAGNITUD Ml\":\"Magnitud (MI)\",\n",
    "                            \"DEPARTAMENTO\":\"Departamento\",\n",
    "                            \"MUNICIPIO\":\"Municipio\",\n",
    "                            \"RMS (Seg)\":\"Rms (Seg) / Velocidad del sismo\",\n",
    "                            \"GAP (grados)\":\"Gap (Grados)\",\n",
    "                            \"ERROR LATITUD (Km)\":\"Error Latitud (Km)\",\n",
    "                            \"ERROR LONGITUD (Km)\":\"Error Longitud (Km)\",\n",
    "                            \"ERROR PROFUNDIDAD (Km)\":\"Error Profundidad (Km)\",\n",
    "                            \"INTENSIDAD\":\"Intensidad\"})\n",
    "\n",
    "df2 = df2.rename(columns={ \"Fecha-Hora\":\"Fecha\",\n",
    "                            \"(UTC)\":\"Hora\",\n",
    "                            \"Lat(°)\":\"Latitud\",\n",
    "                            \"Long(°)\":\"Longitud\",\n",
    "                            \"Prof(Km)\":\"Profundidad (Km)\",\n",
    "                            \"Mag.\":\"Magnitud (MI)\",\n",
    "                            \"Rms(Seg)\":\"Rms (Seg) / Velocidad del sismo\",\n",
    "                            \"Gap(°)\":\"Gap (Grados)\",\n",
    "                            \"Error Lat(Km)\":\"Error Latitud (Km)\",\n",
    "                            \"Error Long(Km)\":\"Error Longitud (Km)\",\n",
    "                            \"Error Prof(Km)\":\"Error Profundidad (Km)\",\n",
    "                            \"Region\":\"Municipio\",\n",
    "                            \"Intensidad\":\"Intensidad\"  \n",
    "    \n",
    "}\n",
    ")   "
   ]
  },
  {
   "cell_type": "code",
   "execution_count": 6,
   "metadata": {},
   "outputs": [],
   "source": [
    "df1 = df1[[\"Fecha\",\"Hora\",\"Latitud\",\"Longitud\",\"Profundidad (Km)\",\"Magnitud (MI)\",\"Rms (Seg) / Velocidad del sismo\",\"Gap (Grados)\",\"Error Latitud (Km)\",\"Error Longitud (Km)\",\"Error Profundidad (Km)\",\"Municipio\",\"Intensidad\"]]"
   ]
  },
  {
   "cell_type": "code",
   "execution_count": 7,
   "metadata": {},
   "outputs": [],
   "source": [
    "df2 = df2[[\"Fecha\",\"Hora\",\"Latitud\",\"Longitud\",\"Profundidad (Km)\",\"Magnitud (MI)\",\"Rms (Seg) / Velocidad del sismo\",\"Gap (Grados)\",\"Error Latitud (Km)\",\"Error Longitud (Km)\",\"Error Profundidad (Km)\",\"Municipio\",\"Intensidad\"]]"
   ]
  },
  {
   "cell_type": "code",
   "execution_count": 8,
   "metadata": {},
   "outputs": [],
   "source": [
    "# Para colocar los datos en minuscula y delimitar la columna muncipio y quitar la palabra Antioquia\n",
    "df2[\"Municipio\"] = df2[\"Municipio\"].str.split(\" - \").str[0]\n",
    "df1[\"Municipio\"] = df1[\"Municipio\"].str.lower()\n",
    "df1[\"Municipio\"].str.lower().inplace=True"
   ]
  },
  {
   "cell_type": "code",
   "execution_count": 9,
   "metadata": {},
   "outputs": [],
   "source": [
    "df1[\"Gap (Grados)\"] = df1[\"Gap (Grados)\"].fillna(0.0).astype(\"int64\")"
   ]
  },
  {
   "cell_type": "code",
   "execution_count": 10,
   "metadata": {},
   "outputs": [],
   "source": [
    "df = pd.concat([df1,df2], axis=0)"
   ]
  },
  {
   "cell_type": "code",
   "execution_count": 11,
   "metadata": {},
   "outputs": [
    {
     "data": {
      "text/plain": [
       "Fecha                               0\n",
       "Hora                                0\n",
       "Latitud                             0\n",
       "Longitud                            0\n",
       "Profundidad (Km)                    0\n",
       "Magnitud (MI)                       0\n",
       "Rms (Seg) / Velocidad del sismo    22\n",
       "Gap (Grados)                        0\n",
       "Error Latitud (Km)                 22\n",
       "Error Longitud (Km)                22\n",
       "Error Profundidad (Km)             22\n",
       "Municipio                           0\n",
       "Intensidad                          0\n",
       "dtype: int64"
      ]
     },
     "execution_count": 11,
     "metadata": {},
     "output_type": "execute_result"
    }
   ],
   "source": [
    "#cantidad de valores nulos o vacios \n",
    "df.isnull().sum()"
   ]
  },
  {
   "cell_type": "code",
   "execution_count": 12,
   "metadata": {},
   "outputs": [],
   "source": [
    "df[\"Rms (Seg) / Velocidad del sismo\"].fillna(df[\"Rms (Seg) / Velocidad del sismo\"].median(), inplace=True)\n",
    "df[\"Error Latitud (Km)\"].fillna(df[\"Error Latitud (Km)\"].median(), inplace=True)\n",
    "df[\"Error Longitud (Km)\"].fillna(df[\"Error Longitud (Km)\"].median(), inplace=True)\n",
    "df[\"Error Profundidad (Km)\"].fillna(df[\"Error Profundidad (Km)\"].median(), inplace=True)"
   ]
  },
  {
   "cell_type": "code",
   "execution_count": 13,
   "metadata": {},
   "outputs": [],
   "source": [
    "df[\"Fecha\"] = pd.to_datetime(df[\"Fecha\"], format=\"%d/%m/%Y\")"
   ]
  },
  {
   "cell_type": "code",
   "execution_count": 14,
   "metadata": {},
   "outputs": [],
   "source": [
    "df[\"Hora\"] = pd.to_datetime(df[\"Hora\"], format=\"%H:%M:%S\").dt.time"
   ]
  },
  {
   "cell_type": "code",
   "execution_count": 15,
   "metadata": {},
   "outputs": [
    {
     "data": {
      "text/plain": [
       "Index(['Fecha', 'Hora', 'Latitud', 'Longitud', 'Profundidad (Km)',\n",
       "       'Magnitud (MI)', 'Rms (Seg) / Velocidad del sismo', 'Gap (Grados)',\n",
       "       'Error Latitud (Km)', 'Error Longitud (Km)', 'Error Profundidad (Km)',\n",
       "       'Municipio', 'Intensidad'],\n",
       "      dtype='object')"
      ]
     },
     "execution_count": 15,
     "metadata": {},
     "output_type": "execute_result"
    }
   ],
   "source": [
    "df.columns"
   ]
  },
  {
   "cell_type": "code",
   "execution_count": 16,
   "metadata": {},
   "outputs": [
    {
     "data": {
      "text/plain": [
       "1.762807792910616"
      ]
     },
     "execution_count": 16,
     "metadata": {},
     "output_type": "execute_result"
    }
   ],
   "source": [
    "df[\"Magnitud (MI)\"].mean()"
   ]
  },
  {
   "cell_type": "code",
   "execution_count": 17,
   "metadata": {},
   "outputs": [
    {
     "data": {
      "text/plain": [
       "22174"
      ]
     },
     "execution_count": 17,
     "metadata": {},
     "output_type": "execute_result"
    }
   ],
   "source": [
    "df[\"Municipio\"].value_counts().sum()"
   ]
  },
  {
   "cell_type": "code",
   "execution_count": 18,
   "metadata": {},
   "outputs": [
    {
     "data": {
      "text/plain": [
       "Municipio\n",
       "Dabeiba        3151\n",
       "murindo        1341\n",
       "dabeiba        1153\n",
       "Murindó         912\n",
       "Uramita         761\n",
       "               ... \n",
       "Santuario         1\n",
       "angelopolis       1\n",
       "carolina          1\n",
       "La Pintada        1\n",
       "Envigado          1\n",
       "Name: count, Length: 245, dtype: int64"
      ]
     },
     "execution_count": 18,
     "metadata": {},
     "output_type": "execute_result"
    }
   ],
   "source": [
    "df[\"Municipio\"].value_counts()"
   ]
  },
  {
   "cell_type": "code",
   "execution_count": 19,
   "metadata": {},
   "outputs": [],
   "source": [
    "#Agrupar los datos"
   ]
  },
  {
   "cell_type": "code",
   "execution_count": 20,
   "metadata": {},
   "outputs": [],
   "source": [
    "df_valores_unicos = df.sort_values(by=[\"Municipio\",\"Magnitud (MI)\"],ascending=False)\n"
   ]
  },
  {
   "cell_type": "code",
   "execution_count": 21,
   "metadata": {},
   "outputs": [
    {
     "data": {
      "text/html": [
       "<div>\n",
       "<style scoped>\n",
       "    .dataframe tbody tr th:only-of-type {\n",
       "        vertical-align: middle;\n",
       "    }\n",
       "\n",
       "    .dataframe tbody tr th {\n",
       "        vertical-align: top;\n",
       "    }\n",
       "\n",
       "    .dataframe thead th {\n",
       "        text-align: right;\n",
       "    }\n",
       "</style>\n",
       "<table border=\"1\" class=\"dataframe\">\n",
       "  <thead>\n",
       "    <tr style=\"text-align: right;\">\n",
       "      <th></th>\n",
       "      <th>Fecha</th>\n",
       "      <th>Hora</th>\n",
       "      <th>Latitud</th>\n",
       "      <th>Longitud</th>\n",
       "      <th>Profundidad (Km)</th>\n",
       "      <th>Magnitud (MI)</th>\n",
       "      <th>Rms (Seg) / Velocidad del sismo</th>\n",
       "      <th>Gap (Grados)</th>\n",
       "      <th>Error Latitud (Km)</th>\n",
       "      <th>Error Longitud (Km)</th>\n",
       "      <th>Error Profundidad (Km)</th>\n",
       "      <th>Municipio</th>\n",
       "      <th>Intensidad</th>\n",
       "    </tr>\n",
       "  </thead>\n",
       "  <tbody>\n",
       "    <tr>\n",
       "      <th>1025</th>\n",
       "      <td>1999-02-10</td>\n",
       "      <td>08:25:19</td>\n",
       "      <td>7.523</td>\n",
       "      <td>-74.869</td>\n",
       "      <td>32.10</td>\n",
       "      <td>4.5</td>\n",
       "      <td>1.2</td>\n",
       "      <td>127</td>\n",
       "      <td>15.600</td>\n",
       "      <td>12.700</td>\n",
       "      <td>47.70</td>\n",
       "      <td>zaragoza</td>\n",
       "      <td>2</td>\n",
       "    </tr>\n",
       "    <tr>\n",
       "      <th>1245</th>\n",
       "      <td>2000-12-16</td>\n",
       "      <td>23:48:48</td>\n",
       "      <td>7.404</td>\n",
       "      <td>-75.014</td>\n",
       "      <td>7.20</td>\n",
       "      <td>4.3</td>\n",
       "      <td>0.8</td>\n",
       "      <td>216</td>\n",
       "      <td>10.900</td>\n",
       "      <td>10.700</td>\n",
       "      <td>15.00</td>\n",
       "      <td>zaragoza</td>\n",
       "      <td>4</td>\n",
       "    </tr>\n",
       "    <tr>\n",
       "      <th>738</th>\n",
       "      <td>1996-10-24</td>\n",
       "      <td>14:41:35</td>\n",
       "      <td>7.520</td>\n",
       "      <td>-75.049</td>\n",
       "      <td>80.00</td>\n",
       "      <td>4.2</td>\n",
       "      <td>0.6</td>\n",
       "      <td>274</td>\n",
       "      <td>14.500</td>\n",
       "      <td>6.700</td>\n",
       "      <td>33.30</td>\n",
       "      <td>zaragoza</td>\n",
       "      <td>2</td>\n",
       "    </tr>\n",
       "    <tr>\n",
       "      <th>1914</th>\n",
       "      <td>2004-07-05</td>\n",
       "      <td>13:03:55</td>\n",
       "      <td>7.662</td>\n",
       "      <td>-75.056</td>\n",
       "      <td>4.00</td>\n",
       "      <td>4.2</td>\n",
       "      <td>0.7</td>\n",
       "      <td>177</td>\n",
       "      <td>9.600</td>\n",
       "      <td>10.600</td>\n",
       "      <td>12.50</td>\n",
       "      <td>zaragoza</td>\n",
       "      <td>5</td>\n",
       "    </tr>\n",
       "    <tr>\n",
       "      <th>1251</th>\n",
       "      <td>2000-12-29</td>\n",
       "      <td>15:43:49</td>\n",
       "      <td>7.373</td>\n",
       "      <td>-74.992</td>\n",
       "      <td>9.40</td>\n",
       "      <td>4.1</td>\n",
       "      <td>0.8</td>\n",
       "      <td>219</td>\n",
       "      <td>11.400</td>\n",
       "      <td>16.200</td>\n",
       "      <td>20.50</td>\n",
       "      <td>zaragoza</td>\n",
       "      <td>3</td>\n",
       "    </tr>\n",
       "    <tr>\n",
       "      <th>...</th>\n",
       "      <td>...</td>\n",
       "      <td>...</td>\n",
       "      <td>...</td>\n",
       "      <td>...</td>\n",
       "      <td>...</td>\n",
       "      <td>...</td>\n",
       "      <td>...</td>\n",
       "      <td>...</td>\n",
       "      <td>...</td>\n",
       "      <td>...</td>\n",
       "      <td>...</td>\n",
       "      <td>...</td>\n",
       "      <td>...</td>\n",
       "    </tr>\n",
       "    <tr>\n",
       "      <th>2392</th>\n",
       "      <td>2020-04-27</td>\n",
       "      <td>11:04:40</td>\n",
       "      <td>5.806</td>\n",
       "      <td>-75.464</td>\n",
       "      <td>3.78</td>\n",
       "      <td>0.5</td>\n",
       "      <td>0.2</td>\n",
       "      <td>164</td>\n",
       "      <td>0.495</td>\n",
       "      <td>0.495</td>\n",
       "      <td>1.30</td>\n",
       "      <td>Abejorral</td>\n",
       "      <td>2</td>\n",
       "    </tr>\n",
       "    <tr>\n",
       "      <th>3897</th>\n",
       "      <td>2021-03-03</td>\n",
       "      <td>12:42:00</td>\n",
       "      <td>5.766</td>\n",
       "      <td>-75.466</td>\n",
       "      <td>15.00</td>\n",
       "      <td>0.5</td>\n",
       "      <td>1.3</td>\n",
       "      <td>117</td>\n",
       "      <td>1.344</td>\n",
       "      <td>1.344</td>\n",
       "      <td>3.30</td>\n",
       "      <td>Abejorral</td>\n",
       "      <td>6</td>\n",
       "    </tr>\n",
       "    <tr>\n",
       "      <th>4890</th>\n",
       "      <td>2021-10-04</td>\n",
       "      <td>07:40:18</td>\n",
       "      <td>5.901</td>\n",
       "      <td>-75.486</td>\n",
       "      <td>0.84</td>\n",
       "      <td>0.5</td>\n",
       "      <td>0.4</td>\n",
       "      <td>147</td>\n",
       "      <td>1.344</td>\n",
       "      <td>1.344</td>\n",
       "      <td>3.40</td>\n",
       "      <td>Abejorral</td>\n",
       "      <td>2</td>\n",
       "    </tr>\n",
       "    <tr>\n",
       "      <th>4975</th>\n",
       "      <td>2021-10-08</td>\n",
       "      <td>08:41:46</td>\n",
       "      <td>5.898</td>\n",
       "      <td>-75.484</td>\n",
       "      <td>4.14</td>\n",
       "      <td>0.5</td>\n",
       "      <td>0.5</td>\n",
       "      <td>148</td>\n",
       "      <td>10.683</td>\n",
       "      <td>6.308</td>\n",
       "      <td>10.56</td>\n",
       "      <td>Abejorral</td>\n",
       "      <td>3</td>\n",
       "    </tr>\n",
       "    <tr>\n",
       "      <th>1406</th>\n",
       "      <td>2019-10-11</td>\n",
       "      <td>04:14:32</td>\n",
       "      <td>5.677</td>\n",
       "      <td>-75.466</td>\n",
       "      <td>1.00</td>\n",
       "      <td>0.4</td>\n",
       "      <td>0.7</td>\n",
       "      <td>122</td>\n",
       "      <td>1.556</td>\n",
       "      <td>1.556</td>\n",
       "      <td>3.70</td>\n",
       "      <td>Abejorral</td>\n",
       "      <td>2</td>\n",
       "    </tr>\n",
       "  </tbody>\n",
       "</table>\n",
       "<p>22174 rows × 13 columns</p>\n",
       "</div>"
      ],
      "text/plain": [
       "          Fecha      Hora  Latitud  Longitud  Profundidad (Km)  Magnitud (MI)  \\\n",
       "1025 1999-02-10  08:25:19    7.523   -74.869             32.10            4.5   \n",
       "1245 2000-12-16  23:48:48    7.404   -75.014              7.20            4.3   \n",
       "738  1996-10-24  14:41:35    7.520   -75.049             80.00            4.2   \n",
       "1914 2004-07-05  13:03:55    7.662   -75.056              4.00            4.2   \n",
       "1251 2000-12-29  15:43:49    7.373   -74.992              9.40            4.1   \n",
       "...         ...       ...      ...       ...               ...            ...   \n",
       "2392 2020-04-27  11:04:40    5.806   -75.464              3.78            0.5   \n",
       "3897 2021-03-03  12:42:00    5.766   -75.466             15.00            0.5   \n",
       "4890 2021-10-04  07:40:18    5.901   -75.486              0.84            0.5   \n",
       "4975 2021-10-08  08:41:46    5.898   -75.484              4.14            0.5   \n",
       "1406 2019-10-11  04:14:32    5.677   -75.466              1.00            0.4   \n",
       "\n",
       "      Rms (Seg) / Velocidad del sismo  Gap (Grados)  Error Latitud (Km)  \\\n",
       "1025                              1.2           127              15.600   \n",
       "1245                              0.8           216              10.900   \n",
       "738                               0.6           274              14.500   \n",
       "1914                              0.7           177               9.600   \n",
       "1251                              0.8           219              11.400   \n",
       "...                               ...           ...                 ...   \n",
       "2392                              0.2           164               0.495   \n",
       "3897                              1.3           117               1.344   \n",
       "4890                              0.4           147               1.344   \n",
       "4975                              0.5           148              10.683   \n",
       "1406                              0.7           122               1.556   \n",
       "\n",
       "      Error Longitud (Km)  Error Profundidad (Km)  Municipio  Intensidad  \n",
       "1025               12.700                   47.70   zaragoza           2  \n",
       "1245               10.700                   15.00   zaragoza           4  \n",
       "738                 6.700                   33.30   zaragoza           2  \n",
       "1914               10.600                   12.50   zaragoza           5  \n",
       "1251               16.200                   20.50   zaragoza           3  \n",
       "...                   ...                     ...        ...         ...  \n",
       "2392                0.495                    1.30  Abejorral           2  \n",
       "3897                1.344                    3.30  Abejorral           6  \n",
       "4890                1.344                    3.40  Abejorral           2  \n",
       "4975                6.308                   10.56  Abejorral           3  \n",
       "1406                1.556                    3.70  Abejorral           2  \n",
       "\n",
       "[22174 rows x 13 columns]"
      ]
     },
     "execution_count": 21,
     "metadata": {},
     "output_type": "execute_result"
    }
   ],
   "source": [
    "df_valores_unicos"
   ]
  },
  {
   "cell_type": "code",
   "execution_count": 22,
   "metadata": {},
   "outputs": [
    {
     "name": "stdout",
     "output_type": "stream",
     "text": [
      "3.4235591232975557\n",
      "19\n",
      "0\n"
     ]
    }
   ],
   "source": [
    "intensidad_pro = df[\"Intensidad\"].mean()\n",
    "intensidad_max = df[\"Intensidad\"].max()\n",
    "intensidad_min = df[\"Intensidad\"].min()\n",
    "print(intensidad_pro)\n",
    "print(intensidad_max)\n",
    "print(intensidad_min)"
   ]
  },
  {
   "cell_type": "code",
   "execution_count": 23,
   "metadata": {},
   "outputs": [
    {
     "data": {
      "text/html": [
       "<div>\n",
       "<style scoped>\n",
       "    .dataframe tbody tr th:only-of-type {\n",
       "        vertical-align: middle;\n",
       "    }\n",
       "\n",
       "    .dataframe tbody tr th {\n",
       "        vertical-align: top;\n",
       "    }\n",
       "\n",
       "    .dataframe thead th {\n",
       "        text-align: right;\n",
       "    }\n",
       "</style>\n",
       "<table border=\"1\" class=\"dataframe\">\n",
       "  <thead>\n",
       "    <tr style=\"text-align: right;\">\n",
       "      <th></th>\n",
       "      <th>Fecha</th>\n",
       "      <th>Hora</th>\n",
       "      <th>Latitud</th>\n",
       "      <th>Longitud</th>\n",
       "      <th>Profundidad (Km)</th>\n",
       "      <th>Magnitud (MI)</th>\n",
       "      <th>Rms (Seg) / Velocidad del sismo</th>\n",
       "      <th>Gap (Grados)</th>\n",
       "      <th>Error Latitud (Km)</th>\n",
       "      <th>Error Longitud (Km)</th>\n",
       "      <th>Error Profundidad (Km)</th>\n",
       "      <th>Municipio</th>\n",
       "      <th>Intensidad</th>\n",
       "    </tr>\n",
       "  </thead>\n",
       "  <tbody>\n",
       "    <tr>\n",
       "      <th>209</th>\n",
       "      <td>1994-09-19</td>\n",
       "      <td>22:28:26</td>\n",
       "      <td>7.001</td>\n",
       "      <td>-74.605</td>\n",
       "      <td>1.20</td>\n",
       "      <td>5.3</td>\n",
       "      <td>0.9</td>\n",
       "      <td>201</td>\n",
       "      <td>9.200</td>\n",
       "      <td>3.400</td>\n",
       "      <td>13.1</td>\n",
       "      <td>remedios</td>\n",
       "      <td>11</td>\n",
       "    </tr>\n",
       "    <tr>\n",
       "      <th>293</th>\n",
       "      <td>1994-11-23</td>\n",
       "      <td>03:27:06</td>\n",
       "      <td>7.044</td>\n",
       "      <td>-75.595</td>\n",
       "      <td>0.10</td>\n",
       "      <td>3.7</td>\n",
       "      <td>1.5</td>\n",
       "      <td>209</td>\n",
       "      <td>24.100</td>\n",
       "      <td>16.300</td>\n",
       "      <td>37.3</td>\n",
       "      <td>briceno</td>\n",
       "      <td>12</td>\n",
       "    </tr>\n",
       "    <tr>\n",
       "      <th>305</th>\n",
       "      <td>1994-11-24</td>\n",
       "      <td>02:29:40</td>\n",
       "      <td>6.914</td>\n",
       "      <td>-75.584</td>\n",
       "      <td>0.10</td>\n",
       "      <td>2.9</td>\n",
       "      <td>0.7</td>\n",
       "      <td>202</td>\n",
       "      <td>33.200</td>\n",
       "      <td>8.900</td>\n",
       "      <td>66.5</td>\n",
       "      <td>san_andres</td>\n",
       "      <td>11</td>\n",
       "    </tr>\n",
       "    <tr>\n",
       "      <th>651</th>\n",
       "      <td>1996-04-16</td>\n",
       "      <td>03:40:35</td>\n",
       "      <td>6.684</td>\n",
       "      <td>-76.719</td>\n",
       "      <td>0.10</td>\n",
       "      <td>3.1</td>\n",
       "      <td>0.4</td>\n",
       "      <td>257</td>\n",
       "      <td>21.700</td>\n",
       "      <td>16.000</td>\n",
       "      <td>22.4</td>\n",
       "      <td>vigia_del_fuerte</td>\n",
       "      <td>11</td>\n",
       "    </tr>\n",
       "    <tr>\n",
       "      <th>697</th>\n",
       "      <td>1996-08-28</td>\n",
       "      <td>04:34:20</td>\n",
       "      <td>6.982</td>\n",
       "      <td>-76.750</td>\n",
       "      <td>0.10</td>\n",
       "      <td>3.0</td>\n",
       "      <td>1.9</td>\n",
       "      <td>226</td>\n",
       "      <td>98.100</td>\n",
       "      <td>25.800</td>\n",
       "      <td>94.2</td>\n",
       "      <td>murindo</td>\n",
       "      <td>11</td>\n",
       "    </tr>\n",
       "    <tr>\n",
       "      <th>...</th>\n",
       "      <td>...</td>\n",
       "      <td>...</td>\n",
       "      <td>...</td>\n",
       "      <td>...</td>\n",
       "      <td>...</td>\n",
       "      <td>...</td>\n",
       "      <td>...</td>\n",
       "      <td>...</td>\n",
       "      <td>...</td>\n",
       "      <td>...</td>\n",
       "      <td>...</td>\n",
       "      <td>...</td>\n",
       "      <td>...</td>\n",
       "    </tr>\n",
       "    <tr>\n",
       "      <th>10885</th>\n",
       "      <td>2024-08-24</td>\n",
       "      <td>02:00:17</td>\n",
       "      <td>6.874</td>\n",
       "      <td>-76.336</td>\n",
       "      <td>0.06</td>\n",
       "      <td>1.4</td>\n",
       "      <td>0.4</td>\n",
       "      <td>158</td>\n",
       "      <td>1.626</td>\n",
       "      <td>1.626</td>\n",
       "      <td>2.8</td>\n",
       "      <td>Dabeiba</td>\n",
       "      <td>11</td>\n",
       "    </tr>\n",
       "    <tr>\n",
       "      <th>11248</th>\n",
       "      <td>2024-10-20</td>\n",
       "      <td>04:44:15</td>\n",
       "      <td>5.859</td>\n",
       "      <td>-74.877</td>\n",
       "      <td>0.01</td>\n",
       "      <td>1.2</td>\n",
       "      <td>1.1</td>\n",
       "      <td>95</td>\n",
       "      <td>2.828</td>\n",
       "      <td>2.828</td>\n",
       "      <td>6.4</td>\n",
       "      <td>San Francisco</td>\n",
       "      <td>15</td>\n",
       "    </tr>\n",
       "    <tr>\n",
       "      <th>11347</th>\n",
       "      <td>2024-11-05</td>\n",
       "      <td>07:17:43</td>\n",
       "      <td>5.874</td>\n",
       "      <td>-74.825</td>\n",
       "      <td>0.01</td>\n",
       "      <td>1.4</td>\n",
       "      <td>0.9</td>\n",
       "      <td>197</td>\n",
       "      <td>3.182</td>\n",
       "      <td>3.182</td>\n",
       "      <td>7.2</td>\n",
       "      <td>Sonsón</td>\n",
       "      <td>16</td>\n",
       "    </tr>\n",
       "    <tr>\n",
       "      <th>11409</th>\n",
       "      <td>2024-11-13</td>\n",
       "      <td>05:21:42</td>\n",
       "      <td>5.820</td>\n",
       "      <td>-74.842</td>\n",
       "      <td>0.03</td>\n",
       "      <td>1.0</td>\n",
       "      <td>0.5</td>\n",
       "      <td>136</td>\n",
       "      <td>1.980</td>\n",
       "      <td>1.980</td>\n",
       "      <td>4.3</td>\n",
       "      <td>Sonsón</td>\n",
       "      <td>12</td>\n",
       "    </tr>\n",
       "    <tr>\n",
       "      <th>11410</th>\n",
       "      <td>2024-11-13</td>\n",
       "      <td>08:28:54</td>\n",
       "      <td>6.935</td>\n",
       "      <td>-76.330</td>\n",
       "      <td>0.04</td>\n",
       "      <td>1.6</td>\n",
       "      <td>0.4</td>\n",
       "      <td>223</td>\n",
       "      <td>5.657</td>\n",
       "      <td>5.657</td>\n",
       "      <td>2.5</td>\n",
       "      <td>Dabeiba</td>\n",
       "      <td>13</td>\n",
       "    </tr>\n",
       "  </tbody>\n",
       "</table>\n",
       "<p>227 rows × 13 columns</p>\n",
       "</div>"
      ],
      "text/plain": [
       "           Fecha      Hora  Latitud  Longitud  Profundidad (Km)  \\\n",
       "209   1994-09-19  22:28:26    7.001   -74.605              1.20   \n",
       "293   1994-11-23  03:27:06    7.044   -75.595              0.10   \n",
       "305   1994-11-24  02:29:40    6.914   -75.584              0.10   \n",
       "651   1996-04-16  03:40:35    6.684   -76.719              0.10   \n",
       "697   1996-08-28  04:34:20    6.982   -76.750              0.10   \n",
       "...          ...       ...      ...       ...               ...   \n",
       "10885 2024-08-24  02:00:17    6.874   -76.336              0.06   \n",
       "11248 2024-10-20  04:44:15    5.859   -74.877              0.01   \n",
       "11347 2024-11-05  07:17:43    5.874   -74.825              0.01   \n",
       "11409 2024-11-13  05:21:42    5.820   -74.842              0.03   \n",
       "11410 2024-11-13  08:28:54    6.935   -76.330              0.04   \n",
       "\n",
       "       Magnitud (MI)  Rms (Seg) / Velocidad del sismo  Gap (Grados)  \\\n",
       "209              5.3                              0.9           201   \n",
       "293              3.7                              1.5           209   \n",
       "305              2.9                              0.7           202   \n",
       "651              3.1                              0.4           257   \n",
       "697              3.0                              1.9           226   \n",
       "...              ...                              ...           ...   \n",
       "10885            1.4                              0.4           158   \n",
       "11248            1.2                              1.1            95   \n",
       "11347            1.4                              0.9           197   \n",
       "11409            1.0                              0.5           136   \n",
       "11410            1.6                              0.4           223   \n",
       "\n",
       "       Error Latitud (Km)  Error Longitud (Km)  Error Profundidad (Km)  \\\n",
       "209                 9.200                3.400                    13.1   \n",
       "293                24.100               16.300                    37.3   \n",
       "305                33.200                8.900                    66.5   \n",
       "651                21.700               16.000                    22.4   \n",
       "697                98.100               25.800                    94.2   \n",
       "...                   ...                  ...                     ...   \n",
       "10885               1.626                1.626                     2.8   \n",
       "11248               2.828                2.828                     6.4   \n",
       "11347               3.182                3.182                     7.2   \n",
       "11409               1.980                1.980                     4.3   \n",
       "11410               5.657                5.657                     2.5   \n",
       "\n",
       "              Municipio  Intensidad  \n",
       "209            remedios          11  \n",
       "293             briceno          12  \n",
       "305          san_andres          11  \n",
       "651    vigia_del_fuerte          11  \n",
       "697             murindo          11  \n",
       "...                 ...         ...  \n",
       "10885           Dabeiba          11  \n",
       "11248     San Francisco          15  \n",
       "11347            Sonsón          16  \n",
       "11409            Sonsón          12  \n",
       "11410           Dabeiba          13  \n",
       "\n",
       "[227 rows x 13 columns]"
      ]
     },
     "execution_count": 23,
     "metadata": {},
     "output_type": "execute_result"
    }
   ],
   "source": [
    "df.loc[df[\"Intensidad\"]>10] #Datos y regulares sismos mayores a 10*"
   ]
  },
  {
   "cell_type": "code",
   "execution_count": 24,
   "metadata": {},
   "outputs": [
    {
     "data": {
      "text/plain": [
       "Fecha       Hora      Latitud  Longitud  Profundidad (Km)  Magnitud (MI)  Rms (Seg) / Velocidad del sismo  Gap (Grados)  Error Latitud (Km)  Error Longitud (Km)  Error Profundidad (Km)  Municipio  Intensidad\n",
       "1994-09-13  10:01:34  7.246    -76.707   28.30             6.4            1.7                              157           30.200              24.900               52.60                   murindo    6             1\n",
       "1994-09-19  22:28:26  7.001    -74.605   1.20              5.3            0.9                              201           9.200               3.400                13.10                   remedios   11            1\n",
       "1995-03-29  16:10:51  7.020    -76.680   1.30              5.1            1.0                              223           14.400              6.000                14.10                   murindo    10            1\n",
       "1996-06-11  16:57:38  7.357    -74.470   40.00             5.4            1.2                              272           30.500              18.900               53.40                   segovia    3             1\n",
       "2000-03-28  19:23:46  7.681    -74.531   13.30             5.3            1.0                              204           10.300              8.200                32.80                   el_bagre   5             1\n",
       "2007-04-24  08:53:35  5.716    -75.916   15.00             5.3            0.4                              106           2.700               3.700                5.20                    betania    5             1\n",
       "2011-03-02  18:50:49  8.614    -76.898   32.00             5.2            0.6                              175           8.000               5.900                27.00                   necocli    3             1\n",
       "2016-09-14  01:58:30  7.238    -76.234   0.00              5.2            0.8                              49            3.200               3.200                6.00                    mutata     0             1\n",
       "2021-03-01  10:57:43  6.287    -76.105   42.52             5.1            1.3                              50            2.133               2.316                3.91                    Urrao      4             1\n",
       "Name: count, dtype: int64"
      ]
     },
     "execution_count": 24,
     "metadata": {},
     "output_type": "execute_result"
    }
   ],
   "source": [
    "df.loc[df[\"Magnitud (MI)\"]>5.0].value_counts()"
   ]
  },
  {
   "cell_type": "code",
   "execution_count": 25,
   "metadata": {},
   "outputs": [
    {
     "data": {
      "text/plain": [
       "2193"
      ]
     },
     "execution_count": 25,
     "metadata": {},
     "output_type": "execute_result"
    }
   ],
   "source": [
    "df.loc[df[\"Profundidad (Km)\"]>50.00].value_counts().sum()"
   ]
  },
  {
   "cell_type": "code",
   "execution_count": 26,
   "metadata": {},
   "outputs": [
    {
     "data": {
      "text/plain": [
       "Fecha       Hora      Latitud  Longitud  Profundidad (Km)  Magnitud (MI)  Rms (Seg) / Velocidad del sismo  Gap (Grados)  Error Latitud (Km)  Error Longitud (Km)  Error Profundidad (Km)  Municipio           Intensidad\n",
       "2009-06-11  22:47:18  6.495    -75.894   76.00             1.8            0.1                              168           3.000               7.800                7.50                    santa_fe_antioquia  8             2\n",
       "1993-12-25  21:15:43  6.626    -75.062   75.10             2.6            0.3                              215           4.100               4.900                17.70                   yolombo             6             1\n",
       "2021-09-27  09:39:30  7.201    -73.967   72.66             0.9            0.3                              73            0.849               0.849                2.20                    Yondó (Casabe)      9             1\n",
       "2021-09-28  11:09:07  7.323    -75.621   55.32             1.3            0.2                              129           1.061               1.061                4.00                    Ituango             7             1\n",
       "2021-09-29  08:14:07  6.072    -76.194   70.54             1.6            1.3                              93            3.889               3.889                11.00                   Urrao               7             1\n",
       "                                                                                                                                                                                                                           ..\n",
       "2016-03-23  06:49:39  6.414    -74.222   62.00             1.2            0.3                              142           3.500               2.000                5.80                    puerto_berrio       8             1\n",
       "2016-03-20  06:36:47  6.724    -76.862   62.00             1.8            0.4                              118           3.000               2.700                10.90                   vigia_del_fuerte    7             1\n",
       "2016-03-13  04:41:18  6.938    -76.723   61.40             1.9            0.3                              152           3.900               2.200                8.30                    murindo             7             1\n",
       "2016-03-05  17:14:45  5.792    -75.957   50.70             2.2            0.5                              122           2.700               4.000                6.50                    hispania            6             1\n",
       "2024-12-07  07:40:16  6.746    -74.774   54.88             3.0            1.2                              41            2.240               2.504                6.92                    Yalí                3             1\n",
       "Name: count, Length: 2192, dtype: int64"
      ]
     },
     "execution_count": 26,
     "metadata": {},
     "output_type": "execute_result"
    }
   ],
   "source": [
    "df.loc[df[\"Profundidad (Km)\"]>50.00].value_counts()"
   ]
  },
  {
   "cell_type": "code",
   "execution_count": 27,
   "metadata": {},
   "outputs": [
    {
     "data": {
      "text/plain": [
       "array([3151, 1341, 1153,  912,  761,  753,  664,  601,  590,  559,  431,\n",
       "        412,  347,  329,  293,  254,  243,  235,  229,  222,  221,  206,\n",
       "        201,  194,  193,  192,  188,  186,  185,  182,  167,  156,  154,\n",
       "        153,  149,  145,  135,  127,  122,  121,  115,  106,  104,  101,\n",
       "         98,   97,   88,   87,   83,   82,   75,   71,   69,   66,   61,\n",
       "         60,   59,   57,   56,   53,   52,   49,   46,   43,   42,   41,\n",
       "         40,   39,   37,   36,   35,   32,   31,   30,   29,   27,   25,\n",
       "         24,   23,   21,   20,   19,   18,   17,   16,   15,   14,   13,\n",
       "         12,   11,   10,    9,    8,    7,    6,    5,    4,    3,    2,\n",
       "          1], dtype=int64)"
      ]
     },
     "execution_count": 27,
     "metadata": {},
     "output_type": "execute_result"
    }
   ],
   "source": [
    "value_counts = df['Municipio'].value_counts().unique()\n",
    "value_counts \n",
    "#Se tiene un total de 99 muncipios"
   ]
  },
  {
   "cell_type": "code",
   "execution_count": 28,
   "metadata": {},
   "outputs": [
    {
     "data": {
      "text/plain": [
       "array(['nechi', 'zaragoza', 'murindo', 'chigorodo', 'anori', 'san_carlos',\n",
       "       'turbo', 'frontino', 'dabeiba', 'puerto_berrio', 'caceres',\n",
       "       'liborina', 'segovia', 'yolombo', 'vigia_del_fuerte',\n",
       "       'puerto_triunfo', 'urrao', 'salgar', 'abejorral', 'marinilla',\n",
       "       'vegachi', 'betania', 'taraza', 'san_pedro', 'puerto_nare',\n",
       "       'san_francisco', 'el_bagre', 'caucasia', 'san_juan_de_uraba',\n",
       "       'yondo', 'ituango', 'yali', 'jerico', 'remedios', 'peque',\n",
       "       'sonson', 'tarso', 'maceo', 'toledo', 'mutata', 'abriaqui',\n",
       "       'campamento', 'canasgordas', 'sabanalarga', 'buritica', 'uramita',\n",
       "       'briceno', 'granada', 'amalfi', 'san_andres', 'yarumal', 'tamesis',\n",
       "       'cocorna', 'san_jose_de_la_montana', 'carepa', 'apartado',\n",
       "       'valdivia', 'san_rafael', 'ciudad_bolivar', 'santo_domingo',\n",
       "       'olaya', 'guatape', 'caicedo', 'ebejico', 'san_luis', 'argelia',\n",
       "       'caracoli', 'san_pedro_de_uraba', 'san_jeronimo', 'san_vicente',\n",
       "       'andes', 'santa_fe_antioquia', 'angostura', 'guadalupe', 'necocli',\n",
       "       'belmira', 'caramanta', 'cisneros', 'la_pintada', 'valparaiso',\n",
       "       'giraldo', 'carolina', 'don_matias', 'concordia', 'fredonia',\n",
       "       'betulia', 'anza', 'arboletes', 'medellin', 'angelopolis',\n",
       "       'rionegro', 'gomez_plata', 'heliconia', 'jardin', 'hispania',\n",
       "       'entrerrios', 'penol', 'carmen_de_viboral', 'alejandria', 'narino',\n",
       "       'san_roque', 'barbosa', 'la_union', 'la_ceja', 'santa_barbara',\n",
       "       'montebello', 'girardota', 'santa_rosa_de_osos', 'guarne',\n",
       "       'sabaneta', 'armenia', 'venecia', 'pueblorrico', 'itagui', 'amaga',\n",
       "       'titiribi', 'bello', 'copacabana', 'caldas', 'sopetran',\n",
       "       'concepcion', 'la_estrella', 'Dabeiba', 'Anorí', 'Murindó',\n",
       "       'Nechí', 'Yondó (Casabe)', 'Frontino', 'Santa Fe de Antioquia',\n",
       "       'Tarazá', 'Urrao', 'Uramita', 'Zaragoza', 'Jardín', 'Cáceres',\n",
       "       'Remedios', 'Vigia del Fuerte', 'Andes', 'Betania', 'Puerto Nare',\n",
       "       'Santo Domingo', 'Ituango', 'Ciudad Bolívar', 'Venecia',\n",
       "       'San Luis', 'Buriticá', 'Carepa', 'Salgar', 'Puerto Berrío',\n",
       "       'Cañasgordas', 'Segovia', 'Ebéjico', 'Necoclí', 'Valdivia',\n",
       "       'El Bagre', 'Mutatá', 'Santa Rosa de Osos', 'Abejorral', 'Yolombó',\n",
       "       'Maceo', 'Sabanalarga', 'San Francisco', 'San Carlos', 'Hispania',\n",
       "       'Liborina', 'Concordia', 'Olaya', 'Turbo', 'Carmen de Viboral',\n",
       "       'Sonsón', 'Belmira', 'Caucasia', 'Caramanta', 'Giraldo', 'Yarumal',\n",
       "       'Amalfi', 'Angostura', 'Betulia', 'La Pintada', 'Abriaquí',\n",
       "       'Vegachí', 'Yalí', 'Armenia', 'Guadalupe', 'Pueblorrico',\n",
       "       'La Unión', 'Briceño', 'Peque', 'Valparaiso', 'Campamento',\n",
       "       'Caracolí', 'Titiribí', 'Caldas', 'Cisneros', 'Anzá', 'Apartadó',\n",
       "       'San Rafael', 'Puerto Triunfo', 'Barbosa', 'La Estrella',\n",
       "       'San Pedro de Urabá', 'San Vicente', 'Medellín', 'Gómez Plata',\n",
       "       'Girardota', 'Chigorodó', 'Tarso', 'Montebello', 'Sopetrán',\n",
       "       'Fredonia', 'San Jerónimo', 'San Andrés', 'Granada', 'Jericó',\n",
       "       'Retiro', 'Cocorná', 'Nariño', 'San Roque', 'Angelópolis',\n",
       "       'Heliconia', 'San Pedro', 'Marinilla', 'Alejandría', 'Peñol',\n",
       "       'Támesis', 'Santuario', 'San Juan de Urabá', 'Sabaneta',\n",
       "       'Carolina', 'Caicedo', 'Don Matías', 'Copacabana', 'Toledo',\n",
       "       'Arboletes', 'Rionegro', 'La Ceja', 'Santa Bárbara', 'Guatapé',\n",
       "       'Bello', 'Amagá', 'San José de la Montaña', 'Concepción',\n",
       "       'Entrerrios', 'Guarne', 'Envigado'], dtype=object)"
      ]
     },
     "execution_count": 28,
     "metadata": {},
     "output_type": "execute_result"
    }
   ],
   "source": [
    "df[\"Municipio\"].unique()"
   ]
  },
  {
   "cell_type": "code",
   "execution_count": 29,
   "metadata": {},
   "outputs": [],
   "source": [
    "conteo = df.groupby(\"Municipio\")[\"Intensidad\"].count()"
   ]
  },
  {
   "cell_type": "code",
   "execution_count": 30,
   "metadata": {},
   "outputs": [
    {
     "data": {
      "text/plain": [
       "Municipio\n",
       "Dabeiba    3151\n",
       "Murindó     912\n",
       "Uramita     761\n",
       "dabeiba    1153\n",
       "murindo    1341\n",
       "uramita     753\n",
       "Name: Intensidad, dtype: int64"
      ]
     },
     "execution_count": 30,
     "metadata": {},
     "output_type": "execute_result"
    }
   ],
   "source": [
    "conteo[conteo>700]"
   ]
  },
  {
   "cell_type": "code",
   "execution_count": 31,
   "metadata": {},
   "outputs": [],
   "source": [
    "#Grafica matplotlib"
   ]
  },
  {
   "cell_type": "code",
   "execution_count": 34,
   "metadata": {},
   "outputs": [],
   "source": [
    "top_municipios = df[\"Municipio\"].value_counts().head(20)"
   ]
  },
  {
   "cell_type": "code",
   "execution_count": 35,
   "metadata": {},
   "outputs": [
    {
     "data": {
      "text/plain": [
       "Municipio\n",
       "Dabeiba             3151\n",
       "murindo             1341\n",
       "dabeiba             1153\n",
       "Murindó              912\n",
       "Uramita              761\n",
       "uramita              753\n",
       "Ituango              664\n",
       "Frontino             601\n",
       "mutata               590\n",
       "vigia_del_fuerte     559\n",
       "puerto_berrio        431\n",
       "Vigia del Fuerte     412\n",
       "Yondó (Casabe)       412\n",
       "yondo                347\n",
       "el_bagre             329\n",
       "caceres              293\n",
       "zaragoza             254\n",
       "peque                243\n",
       "frontino             235\n",
       "Tarazá               229\n",
       "Name: count, dtype: int64"
      ]
     },
     "execution_count": 35,
     "metadata": {},
     "output_type": "execute_result"
    }
   ],
   "source": [
    "top_municipios #Municipio con más sismo"
   ]
  },
  {
   "cell_type": "code",
   "execution_count": 78,
   "metadata": {},
   "outputs": [],
   "source": [
    "df_magnitudes = df.groupby(\"Municipio\")[\"Intensidad\"].count()"
   ]
  },
  {
   "cell_type": "code",
   "execution_count": 37,
   "metadata": {},
   "outputs": [
    {
     "data": {
      "text/plain": [
       "Municipio\n",
       "Abejorral     115\n",
       "Abriaquí       15\n",
       "Alejandría     10\n",
       "Amagá           4\n",
       "Amalfi         61\n",
       "             ... \n",
       "yali           25\n",
       "yarumal        24\n",
       "yolombo        12\n",
       "yondo         347\n",
       "zaragoza      254\n",
       "Name: Intensidad, Length: 245, dtype: int64"
      ]
     },
     "execution_count": 37,
     "metadata": {},
     "output_type": "execute_result"
    }
   ],
   "source": [
    "df_magnitudes"
   ]
  },
  {
   "cell_type": "code",
   "execution_count": 74,
   "metadata": {},
   "outputs": [],
   "source": [
    "df_magnitudes= df[df['Intensidad'] > 5.1].groupby(\"Municipio\")[\"Intensidad\"].count().sort_values(ascending=False)"
   ]
  },
  {
   "cell_type": "code",
   "execution_count": 79,
   "metadata": {},
   "outputs": [],
   "source": [
    "df_seleccionados = df[(df['Intensidad'] ) & (df['Municipio'].isin(['envigado']))]\n",
    "\n",
    "\n",
    "\n",
    "#df[df['Intensidad'] > 5.1].groupby(\"Municipio\")[\"Intensidad\"].count().sort_values(ascending=False)"
   ]
  },
  {
   "cell_type": "code",
   "execution_count": 80,
   "metadata": {},
   "outputs": [
    {
     "data": {
      "text/html": [
       "<div>\n",
       "<style scoped>\n",
       "    .dataframe tbody tr th:only-of-type {\n",
       "        vertical-align: middle;\n",
       "    }\n",
       "\n",
       "    .dataframe tbody tr th {\n",
       "        vertical-align: top;\n",
       "    }\n",
       "\n",
       "    .dataframe thead th {\n",
       "        text-align: right;\n",
       "    }\n",
       "</style>\n",
       "<table border=\"1\" class=\"dataframe\">\n",
       "  <thead>\n",
       "    <tr style=\"text-align: right;\">\n",
       "      <th></th>\n",
       "      <th>Fecha</th>\n",
       "      <th>Hora</th>\n",
       "      <th>Latitud</th>\n",
       "      <th>Longitud</th>\n",
       "      <th>Profundidad (Km)</th>\n",
       "      <th>Magnitud (MI)</th>\n",
       "      <th>Rms (Seg) / Velocidad del sismo</th>\n",
       "      <th>Gap (Grados)</th>\n",
       "      <th>Error Latitud (Km)</th>\n",
       "      <th>Error Longitud (Km)</th>\n",
       "      <th>Error Profundidad (Km)</th>\n",
       "      <th>Municipio</th>\n",
       "      <th>Intensidad</th>\n",
       "    </tr>\n",
       "  </thead>\n",
       "  <tbody>\n",
       "  </tbody>\n",
       "</table>\n",
       "</div>"
      ],
      "text/plain": [
       "Empty DataFrame\n",
       "Columns: [Fecha, Hora, Latitud, Longitud, Profundidad (Km), Magnitud (MI), Rms (Seg) / Velocidad del sismo, Gap (Grados), Error Latitud (Km), Error Longitud (Km), Error Profundidad (Km), Municipio, Intensidad]\n",
       "Index: []"
      ]
     },
     "execution_count": 80,
     "metadata": {},
     "output_type": "execute_result"
    }
   ],
   "source": [
    "df_seleccionados"
   ]
  },
  {
   "cell_type": "code",
   "execution_count": 77,
   "metadata": {},
   "outputs": [],
   "source": [
    "df_magnitudes = df.groupby(\"Municipio\").filter(lambda x: x['Intensidad'].mean() > 5)[\"Intensidad\"].count().sort"
   ]
  },
  {
   "cell_type": "code",
   "execution_count": 209,
   "metadata": {},
   "outputs": [
    {
     "data": {
      "text/plain": [
       "' Clasificación de daños en edificios de mampostería\\nGrado 1: Daños despreciables o ligeros, el edificio no tiene daño estructural o son muy ligeros. Se visualizan fisuras en algunos muros y pueden haber caído pequeños trozos de revestimiento.\\nGrado 2: Daños moderados. Se aprecian grietas en los muros y caídas de revestimiento y colapso parcial de chimeneas.\\nGrado 3: Daños importantes a graves. Se detectan grandes grietas de manera generalizada en la mayoría de los muros. Se desprenden tejas del tejado, rotura de chimeneas y se dañan elementos no estructurales como los tabiques.\\nGrado 4: Daños muy graves. Se dañan seriamente los muros y parcialmente otros elementos como forjados o tejados.\\nGrado 5: Colapso o destrucción. Los daños estructurales son muy graves, puede darse el colapso total o caso total o ser necesario el derribo de la edificación. '"
      ]
     },
     "execution_count": 209,
     "metadata": {},
     "output_type": "execute_result"
    }
   ],
   "source": [
    "\n",
    "''' Clasificación de daños en edificios de mampostería\n",
    "Grado 1: Daños despreciables o ligeros, el edificio no tiene daño estructural o son muy ligeros. Se visualizan fisuras en algunos muros y pueden haber caído pequeños trozos de revestimiento.\n",
    "Grado 2: Daños moderados. Se aprecian grietas en los muros y caídas de revestimiento y colapso parcial de chimeneas.\n",
    "Grado 3: Daños importantes a graves. Se detectan grandes grietas de manera generalizada en la mayoría de los muros. Se desprenden tejas del tejado, rotura de chimeneas y se dañan elementos no estructurales como los tabiques.\n",
    "Grado 4: Daños muy graves. Se dañan seriamente los muros y parcialmente otros elementos como forjados o tejados.\n",
    "Grado 5: Colapso o destrucción. Los daños estructurales son muy graves, puede darse el colapso total o caso total o ser necesario el derribo de la edificación. '''"
   ]
  }
 ],
 "metadata": {
  "kernelspec": {
   "display_name": "base",
   "language": "python",
   "name": "python3"
  },
  "language_info": {
   "codemirror_mode": {
    "name": "ipython",
    "version": 3
   },
   "file_extension": ".py",
   "mimetype": "text/x-python",
   "name": "python",
   "nbconvert_exporter": "python",
   "pygments_lexer": "ipython3",
   "version": "3.11.5"
  }
 },
 "nbformat": 4,
 "nbformat_minor": 2
}
